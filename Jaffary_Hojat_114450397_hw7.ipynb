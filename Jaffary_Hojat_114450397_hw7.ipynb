{
  "cells": [
    {
      "cell_type": "markdown",
      "metadata": {
        "id": "aOahWA6nxfZm"
      },
      "source": [
        "# CSE353 Homework 2\n",
        "**Due date: 11:59pm on December 02, 2024**\n",
        "\n",
        "In this semester, we will use Google Colab for the assignments, which allows us to utilize resources that some of us might not have in their local machines such as GPUs. You will need to use your Stony Brook (*.stonybrook.edu) account for coding and Google Drive to save your results.\n",
        "\n",
        "## Google Colab Tutorial\n",
        "---\n",
        "Go to https://colab.research.google.com/notebooks/, you will see a tutorial named \"Welcome to Colaboratory\" file, where you can learn the basics of using google colab.\n",
        "\n",
        "Settings used for assignments: ***Edit -> Notebook Settings -> Runtime Type (Python 3)***.\n",
        "\n",
        "\n",
        "## Description\n",
        "---\n",
        "This project is an introduction to deep learning tools for Natural Language Processing. You will experiment and train Transformer-based networks for text classification using [PyTorch](http://pytorch.org). Specifically, in this assignment, you’ll dive into the world of transformer-based models for natural language processing (NLP), with a special focus on BERT (Bidirectional Encoder Representations from Transformers). BERT, along with other transformers, has fundamentally changed how machines process language.\n",
        "\n",
        "We’ll start by exploring word embeddings. You’ll learn how BERT generates “contextualized” embeddings, meaning the same word—like “bank”—can have different vector representations depending on its context. For example, “bank” can refer to a financial institution or the side of a river, and BERT captures these differences. Your first task will be to load a pre-trained BERT model, extract embeddings for words, and see how these embeddings change with context. This part will help you understand why transformers are such a big deal in NLP.\n",
        "\n",
        "Next, you’ll put BERT to work in a text classification task, training a model to classify text into categories. Using PyTorch and the Hugging Face library, you’ll fine-tune BERT to recognize patterns in the data and make predictions. This is where you’ll really see how transformers can power real-world applications. By the end of this assignment, you are expected to have a solid grasp of how to use BERT for NLP tasks and be ready to tackle more advanced deep learning projects.\n",
        "\n",
        "## Some Tutorials (PyTorch)\n",
        "---\n",
        "- You will be using PyTorch for deep learning toolbox (follow the [link](http://pytorch.org) for installation).\n",
        "- For PyTorch beginners, please read this [tutorial](http://pytorch.org/tutorials/beginner/deep_learning_60min_blitz.html) before doing your homework.\n",
        "- Feel free to study more tutorials at http://pytorch.org/tutorials/.\n",
        "- Find cool visualization here at http://playground.tensorflow.org.\n",
        "\n",
        "\n"
      ]
    },
    {
      "cell_type": "code",
      "execution_count": null,
      "metadata": {
        "id": "fV7_srRQvK88",
        "colab": {
          "base_uri": "https://localhost:8080/"
        },
        "outputId": "47f8caa6-5565-4ba8-f156-0deeb9c9c125"
      },
      "outputs": [
        {
          "output_type": "stream",
          "name": "stdout",
          "text": [
            "Requirement already satisfied: numpy in /usr/local/lib/python3.10/dist-packages (1.26.4)\n",
            "Requirement already satisfied: pandas in /usr/local/lib/python3.10/dist-packages (2.2.2)\n",
            "Requirement already satisfied: numpy>=1.22.4 in /usr/local/lib/python3.10/dist-packages (from pandas) (1.26.4)\n",
            "Requirement already satisfied: python-dateutil>=2.8.2 in /usr/local/lib/python3.10/dist-packages (from pandas) (2.8.2)\n",
            "Requirement already satisfied: pytz>=2020.1 in /usr/local/lib/python3.10/dist-packages (from pandas) (2024.2)\n",
            "Requirement already satisfied: tzdata>=2022.7 in /usr/local/lib/python3.10/dist-packages (from pandas) (2024.2)\n",
            "Requirement already satisfied: six>=1.5 in /usr/local/lib/python3.10/dist-packages (from python-dateutil>=2.8.2->pandas) (1.16.0)\n",
            "Requirement already satisfied: torch in /usr/local/lib/python3.10/dist-packages (2.5.1+cu121)\n",
            "Requirement already satisfied: filelock in /usr/local/lib/python3.10/dist-packages (from torch) (3.16.1)\n",
            "Requirement already satisfied: typing-extensions>=4.8.0 in /usr/local/lib/python3.10/dist-packages (from torch) (4.12.2)\n",
            "Requirement already satisfied: networkx in /usr/local/lib/python3.10/dist-packages (from torch) (3.4.2)\n",
            "Requirement already satisfied: jinja2 in /usr/local/lib/python3.10/dist-packages (from torch) (3.1.4)\n",
            "Requirement already satisfied: fsspec in /usr/local/lib/python3.10/dist-packages (from torch) (2024.9.0)\n",
            "Requirement already satisfied: sympy==1.13.1 in /usr/local/lib/python3.10/dist-packages (from torch) (1.13.1)\n",
            "Requirement already satisfied: mpmath<1.4,>=1.1.0 in /usr/local/lib/python3.10/dist-packages (from sympy==1.13.1->torch) (1.3.0)\n",
            "Requirement already satisfied: MarkupSafe>=2.0 in /usr/local/lib/python3.10/dist-packages (from jinja2->torch) (3.0.2)\n",
            "Requirement already satisfied: matplotlib in /usr/local/lib/python3.10/dist-packages (3.8.0)\n",
            "Requirement already satisfied: contourpy>=1.0.1 in /usr/local/lib/python3.10/dist-packages (from matplotlib) (1.3.1)\n",
            "Requirement already satisfied: cycler>=0.10 in /usr/local/lib/python3.10/dist-packages (from matplotlib) (0.12.1)\n",
            "Requirement already satisfied: fonttools>=4.22.0 in /usr/local/lib/python3.10/dist-packages (from matplotlib) (4.55.0)\n",
            "Requirement already satisfied: kiwisolver>=1.0.1 in /usr/local/lib/python3.10/dist-packages (from matplotlib) (1.4.7)\n",
            "Requirement already satisfied: numpy<2,>=1.21 in /usr/local/lib/python3.10/dist-packages (from matplotlib) (1.26.4)\n",
            "Requirement already satisfied: packaging>=20.0 in /usr/local/lib/python3.10/dist-packages (from matplotlib) (24.2)\n",
            "Requirement already satisfied: pillow>=6.2.0 in /usr/local/lib/python3.10/dist-packages (from matplotlib) (11.0.0)\n",
            "Requirement already satisfied: pyparsing>=2.3.1 in /usr/local/lib/python3.10/dist-packages (from matplotlib) (3.2.0)\n",
            "Requirement already satisfied: python-dateutil>=2.7 in /usr/local/lib/python3.10/dist-packages (from matplotlib) (2.8.2)\n",
            "Requirement already satisfied: six>=1.5 in /usr/local/lib/python3.10/dist-packages (from python-dateutil>=2.7->matplotlib) (1.16.0)\n",
            "Requirement already satisfied: scikit-learn in /usr/local/lib/python3.10/dist-packages (1.5.2)\n",
            "Requirement already satisfied: numpy>=1.19.5 in /usr/local/lib/python3.10/dist-packages (from scikit-learn) (1.26.4)\n",
            "Requirement already satisfied: scipy>=1.6.0 in /usr/local/lib/python3.10/dist-packages (from scikit-learn) (1.13.1)\n",
            "Requirement already satisfied: joblib>=1.2.0 in /usr/local/lib/python3.10/dist-packages (from scikit-learn) (1.4.2)\n",
            "Requirement already satisfied: threadpoolctl>=3.1.0 in /usr/local/lib/python3.10/dist-packages (from scikit-learn) (3.5.0)\n",
            "Requirement already satisfied: transformers in /usr/local/lib/python3.10/dist-packages (4.46.2)\n",
            "Requirement already satisfied: filelock in /usr/local/lib/python3.10/dist-packages (from transformers) (3.16.1)\n",
            "Requirement already satisfied: huggingface-hub<1.0,>=0.23.2 in /usr/local/lib/python3.10/dist-packages (from transformers) (0.26.2)\n",
            "Requirement already satisfied: numpy>=1.17 in /usr/local/lib/python3.10/dist-packages (from transformers) (1.26.4)\n",
            "Requirement already satisfied: packaging>=20.0 in /usr/local/lib/python3.10/dist-packages (from transformers) (24.2)\n",
            "Requirement already satisfied: pyyaml>=5.1 in /usr/local/lib/python3.10/dist-packages (from transformers) (6.0.2)\n",
            "Requirement already satisfied: regex!=2019.12.17 in /usr/local/lib/python3.10/dist-packages (from transformers) (2024.9.11)\n",
            "Requirement already satisfied: requests in /usr/local/lib/python3.10/dist-packages (from transformers) (2.32.3)\n",
            "Requirement already satisfied: safetensors>=0.4.1 in /usr/local/lib/python3.10/dist-packages (from transformers) (0.4.5)\n",
            "Requirement already satisfied: tokenizers<0.21,>=0.20 in /usr/local/lib/python3.10/dist-packages (from transformers) (0.20.3)\n",
            "Requirement already satisfied: tqdm>=4.27 in /usr/local/lib/python3.10/dist-packages (from transformers) (4.66.6)\n",
            "Requirement already satisfied: fsspec>=2023.5.0 in /usr/local/lib/python3.10/dist-packages (from huggingface-hub<1.0,>=0.23.2->transformers) (2024.9.0)\n",
            "Requirement already satisfied: typing-extensions>=3.7.4.3 in /usr/local/lib/python3.10/dist-packages (from huggingface-hub<1.0,>=0.23.2->transformers) (4.12.2)\n",
            "Requirement already satisfied: charset-normalizer<4,>=2 in /usr/local/lib/python3.10/dist-packages (from requests->transformers) (3.4.0)\n",
            "Requirement already satisfied: idna<4,>=2.5 in /usr/local/lib/python3.10/dist-packages (from requests->transformers) (3.10)\n",
            "Requirement already satisfied: urllib3<3,>=1.21.1 in /usr/local/lib/python3.10/dist-packages (from requests->transformers) (2.2.3)\n",
            "Requirement already satisfied: certifi>=2017.4.17 in /usr/local/lib/python3.10/dist-packages (from requests->transformers) (2024.8.30)\n"
          ]
        }
      ],
      "source": [
        "!pip install -q datasets\n",
        "!pip install numpy\n",
        "!pip install pandas\n",
        "!pip install torch\n",
        "!pip install matplotlib\n",
        "!pip install -U scikit-learn\n",
        "!pip install transformers"
      ]
    },
    {
      "cell_type": "code",
      "execution_count": null,
      "metadata": {
        "id": "YJu5YAO7sk0O"
      },
      "outputs": [],
      "source": [
        "import numpy as np\n",
        "import warnings\n",
        "import pandas as pd\n",
        "import torch\n",
        "from datasets import load_dataset\n",
        "import matplotlib.pyplot as plt\n",
        "from sklearn.decomposition import PCA\n",
        "from transformers import BertTokenizer, BertModel, BertForSequenceClassification, Trainer, TrainingArguments, DataCollatorWithPadding"
      ]
    },
    {
      "cell_type": "markdown",
      "metadata": {
        "id": "1xchZ9rvyhcq"
      },
      "source": [
        "## Introduction to Transformers.\n",
        "\n",
        "Transformers are a groundbreaking neural network architecture that has transformed the field of Natural Language Processing (NLP). They are the underlying technology behing ChatGPT, GPT4, Gemini and other well-known Large Language models that most of us use quite a lot. But let's start from the basics.\n",
        "\n",
        "At the heart of NLP, the first challenge is to represent words in a way that machines can understand. This is done using word embeddings, which are numerical representations of words in a continuous vector space. In simpler terms, they convert words into dense vectors that capture their meanings. The key innovation of Transformers is that they generate contextualized embeddings, meaning that the same word can have different meanings based on the sentence it appears in. This allows the model to better grasp nuances, like homonyms or polysemous words, and it gives rise to models that understand language in a way that feels intuitive and almost human-like.\n",
        "\n",
        "Therefore, let's first explore how what word embeddings are and how they work. We will be using BERT, one of the most used Language Models which really set the pace for the uprise of the newer groundbreaking LLMs.\n",
        "\n",
        "Throughout this assignment, we will be using PyTorch and HuggingFace, which are two important ML frameworks."
      ]
    },
    {
      "cell_type": "code",
      "execution_count": null,
      "metadata": {
        "id": "B7WJGvxzygaW"
      },
      "outputs": [],
      "source": [
        "# Import torch --> the PyTorch library\n",
        "import torch\n",
        "\n",
        "# Load pre-trained BERT model and tokenizer\n",
        "tokenizer = BertTokenizer.from_pretrained('bert-base-uncased')\n",
        "model = BertModel.from_pretrained('bert-base-uncased')"
      ]
    },
    {
      "cell_type": "markdown",
      "metadata": {
        "id": "2f2VoCl0Ced9"
      },
      "source": [
        "###**Problem 1:** Extract and visualize word embeddings with BERT [40/100 points]"
      ]
    },
    {
      "cell_type": "markdown",
      "metadata": {
        "id": "SLpBh2qT2KXe"
      },
      "source": [
        "### Extract single word embedding\n",
        "\n",
        "Now that we loaded our model, let's use it in order to extract word embeddings."
      ]
    },
    {
      "cell_type": "code",
      "execution_count": null,
      "metadata": {
        "id": "zeHmOo-T_qTN",
        "colab": {
          "base_uri": "https://localhost:8080/"
        },
        "outputId": "6a506fb7-7b8b-419f-f79e-0bb31a53f7a4"
      },
      "outputs": [
        {
          "output_type": "stream",
          "name": "stdout",
          "text": [
            "Embeddings shape: torch.Size([1, 3, 768])\n",
            "Word embedding for the single word bank: tensor([-3.4963e-01, -7.3440e-01, -5.8732e-01, -6.1737e-01,  5.2172e-01,\n",
            "         6.8754e-01,  1.3395e-01,  9.0185e-01, -5.1010e-01, -6.2614e-01,\n",
            "         1.4078e-02,  8.2674e-02,  4.1525e-01,  3.1088e-01, -7.9199e-01,\n",
            "        -4.8141e-01,  4.8469e-01,  6.4897e-02,  1.0234e+00, -3.5507e-02,\n",
            "        -4.5187e-01,  4.1955e-01,  5.0114e-01, -4.4830e-01, -9.2895e-02,\n",
            "         7.0261e-01,  4.2115e-02,  2.9413e-01, -9.1645e-02,  3.4879e-01,\n",
            "         1.8220e-01,  2.1599e-01,  5.4102e-01,  3.5400e-01, -5.4799e-01,\n",
            "        -1.0385e+00, -1.7001e-01,  9.6542e-02, -6.3357e-01,  5.4143e-01,\n",
            "         2.3745e-01, -7.2238e-01,  3.8040e-01, -1.2271e-01,  4.6272e-01,\n",
            "        -6.8366e-02,  4.8680e-01,  5.5842e-01, -1.2060e+00,  1.6398e-01,\n",
            "        -2.4939e-01,  7.4053e-01,  1.8472e-01, -2.2565e-02,  2.9800e-02,\n",
            "        -4.2158e-02,  6.2196e-01,  2.4044e-01, -8.3352e-01, -2.8973e-01,\n",
            "         7.7549e-01, -8.3799e-02,  6.1320e-01, -3.9545e-01,  4.3397e-01,\n",
            "         1.9651e-01,  9.4413e-01,  4.9030e-01, -1.1440e+00,  5.2811e-01,\n",
            "        -1.4541e-01,  9.5757e-01, -4.5874e-01, -6.9654e-01,  7.5453e-01,\n",
            "        -3.7529e-01, -2.8657e-01,  3.9359e-01, -1.5421e-01, -7.1241e-01,\n",
            "         1.7347e-02,  3.1400e-01, -9.6128e-02,  1.7603e-01, -4.8868e-01,\n",
            "        -4.6284e-01, -5.4228e-01, -3.9424e-01, -1.2462e-01,  5.0248e-01,\n",
            "        -7.4752e-01,  1.3988e-01, -6.0046e-01,  1.0438e-01, -5.0498e-01,\n",
            "         7.4576e-02, -8.4945e-01,  3.7266e-01,  2.3408e-01, -4.9885e-01,\n",
            "        -2.8792e-01, -6.9614e-01, -6.3550e-02,  3.2118e-01, -1.4997e-01,\n",
            "         1.5870e-01, -6.4313e-01, -4.2909e-01, -1.8049e-01,  1.0006e-01,\n",
            "        -1.4849e-01, -1.9469e-01,  9.6589e-01, -1.6785e-01, -3.1142e-01,\n",
            "         7.3788e-01, -2.4766e-01, -6.0608e-01, -6.7672e-02, -6.6984e-02,\n",
            "        -4.6897e-01, -7.5007e-02,  2.5521e-01,  7.9600e-01,  2.8386e-01,\n",
            "         6.2010e-01, -6.8013e-01, -4.7639e-01, -3.3079e-02, -3.0372e-01,\n",
            "        -1.5799e-01,  7.9972e-01, -4.0147e-01,  4.5279e-01,  5.4708e-03,\n",
            "         4.1968e-01,  3.4022e-01, -2.1436e-01,  2.1786e-01, -6.5341e-01,\n",
            "         2.7664e-01,  8.8121e-02,  4.9322e-02,  4.3213e-01,  3.6482e-02,\n",
            "         1.2130e-01, -2.8943e-02,  1.2204e-01, -3.3979e-01,  1.6628e-01,\n",
            "        -8.6873e-01,  8.7953e-01, -5.6727e-01, -7.1193e-01, -6.4818e-01,\n",
            "        -2.1461e-01,  3.2331e-01,  2.5095e-01, -3.6740e-02,  6.0504e-01,\n",
            "         7.8773e-01,  2.1305e-01, -1.7554e-01,  3.8680e-01, -1.0246e+00,\n",
            "        -7.5889e-01,  1.8484e-01,  8.0801e-01,  2.9551e-01, -4.4463e-01,\n",
            "        -1.2350e+00, -1.0038e+00,  8.8962e-01,  2.5605e-01,  2.6223e-01,\n",
            "         7.2989e-01, -1.2777e-01, -3.3125e-01,  1.2017e-01,  3.9181e-01,\n",
            "        -5.1295e-01,  8.2145e-01,  1.7655e-01,  4.4483e-01,  6.0879e-01,\n",
            "        -7.9476e-02,  8.2823e-01, -3.8289e-01,  9.1315e-01,  1.6993e-01,\n",
            "        -3.5804e-01, -8.1528e-01, -3.7125e-02,  3.9275e-01, -2.0738e-01,\n",
            "        -6.3855e-01, -1.3920e-01, -3.7932e-01,  5.7259e-01, -4.7470e-01,\n",
            "         3.6386e-01, -4.4725e-01,  1.0028e-01,  5.3682e-01, -1.7629e-01,\n",
            "         8.4485e-01,  2.8822e-01, -5.7157e-01,  2.1531e-01, -2.1803e-01,\n",
            "        -5.3254e-01,  7.3114e-01,  3.8914e-01,  6.6511e-02,  4.6890e-01,\n",
            "        -4.3189e-01, -4.6040e-02,  5.0069e-01, -3.8359e-01,  4.6734e-01,\n",
            "         4.6865e-01, -4.9069e-01,  1.0960e-01,  4.1301e-01, -9.3755e-01,\n",
            "        -2.0966e-01,  3.8363e-01, -6.1996e-01,  1.6060e-01,  1.8937e-01,\n",
            "        -1.1160e-01, -2.9562e-01,  9.6355e-02, -4.7123e-01, -6.4658e-01,\n",
            "         4.1515e-01, -7.6901e-01, -2.4202e-01, -5.4512e-01,  4.3366e-01,\n",
            "        -5.5306e-01, -5.4543e-01,  5.9195e-01,  3.6225e-01,  3.2761e-01,\n",
            "         4.0052e-01,  6.2071e-01, -6.5114e-01,  4.7302e-01, -2.5417e-01,\n",
            "         2.6247e-01, -1.0411e+00, -5.8030e-01, -6.3939e-01, -7.7328e-01,\n",
            "        -4.8686e-01,  2.6773e-01, -5.0008e-01,  5.6737e-01,  3.8696e-01,\n",
            "        -1.8975e-01,  2.4803e-02,  1.0514e+00, -3.2912e-01,  1.0510e-01,\n",
            "         4.5194e-01,  1.8029e-01, -5.4927e-01,  3.0546e-01, -1.4089e-01,\n",
            "         2.1232e-01, -8.1173e-02,  3.7591e-01,  6.7123e-01,  2.7560e-01,\n",
            "        -4.5427e-03,  3.7877e-01,  1.6799e-01,  4.5326e-01,  7.1386e-01,\n",
            "        -1.0083e-02,  1.3421e-01, -4.9555e-01, -2.6874e-01,  8.6188e-01,\n",
            "        -6.2977e-01, -1.0432e+00,  4.3066e-01,  2.2345e-01, -9.4167e-01,\n",
            "        -1.6637e-01,  8.4847e-01, -2.2139e-01, -1.8215e-01,  2.0134e-01,\n",
            "         3.8449e-01, -1.9788e-01,  4.2642e-01,  6.6346e-02, -4.6601e-01,\n",
            "        -2.4171e-01,  2.6772e-01,  1.0222e-02, -5.9164e-01,  3.2767e-01,\n",
            "         3.8865e-01,  5.3084e-02,  7.4008e-01, -4.3457e+00,  1.5243e-01,\n",
            "         1.5579e-01, -4.3536e-01,  7.9183e-02, -9.7997e-01, -3.0025e-02,\n",
            "        -1.4829e-01, -9.4812e-01, -2.6694e-01,  3.2547e-01, -5.5980e-01,\n",
            "         8.9403e-01,  2.9351e-01,  4.9168e-01, -5.3921e-01, -6.4624e-02,\n",
            "        -2.3270e-01, -8.2477e-01,  2.7832e-01, -1.2545e-01, -8.8079e-01,\n",
            "         5.0193e-01, -1.5009e-03, -5.9640e-01,  9.8323e-01, -1.7254e-01,\n",
            "         1.0414e+00, -1.0296e+00,  8.1924e-02, -3.5933e-01, -3.7570e-01,\n",
            "         4.7707e-01,  3.2354e-01,  5.0602e-01, -1.7657e-01,  4.6675e-02,\n",
            "         1.6164e-01,  1.8555e+00, -7.8954e-02,  5.9054e-01,  1.7726e-01,\n",
            "         4.2638e-01,  4.5752e-01,  3.7867e-01, -5.0325e-01,  2.3574e-01,\n",
            "         3.1568e-01, -3.6435e-01,  2.7513e-01,  4.1566e-01, -8.9571e-02,\n",
            "         9.4449e-02, -7.5941e-01, -3.1888e-01,  4.1514e-01,  2.0946e-01,\n",
            "         4.9368e-01,  6.9168e-02, -2.5159e-01, -3.8622e-01,  9.3685e-02,\n",
            "         1.3544e-01,  4.6469e-01, -1.3786e+00,  2.8260e-02, -5.9228e-01,\n",
            "        -8.2132e-01,  3.6464e-01, -1.5417e-01, -6.1778e-01, -5.4079e-02,\n",
            "         3.5371e-01, -1.4120e+00, -7.6091e-01,  2.0468e-01,  9.2408e-02,\n",
            "        -4.1398e-01,  1.5292e-01, -4.8978e-01,  3.0406e-01,  2.6570e-01,\n",
            "         2.4868e-01,  5.5852e-01,  3.1731e-01, -1.2570e-01,  5.3788e-01,\n",
            "        -1.2876e+00, -4.6974e-01,  1.2855e-01, -2.7605e-01,  4.5272e-01,\n",
            "         1.5783e+00,  1.6192e-01,  5.2532e-01,  1.1010e-01,  2.5784e-01,\n",
            "        -8.2294e-02,  2.6875e-01, -2.4204e-01, -4.6320e-01,  3.6323e-01,\n",
            "        -3.4075e-02,  1.9700e-01,  8.7644e-01, -2.5688e-01, -7.5818e-01,\n",
            "         8.9952e-02, -4.2692e-01,  9.7001e-01,  3.7612e-01, -3.1553e-01,\n",
            "         6.6087e-01, -3.8372e-01, -3.0900e-01,  5.0265e-01,  1.0156e-01,\n",
            "        -4.2209e-01,  5.8496e-02,  5.5268e-01, -1.2526e-01, -1.9487e-01,\n",
            "         2.0076e-02, -1.0398e+00, -2.3694e-02, -2.1228e-01,  1.3251e-01,\n",
            "        -4.0011e-01, -4.1865e-01,  2.3448e-01,  4.5158e-01,  2.3022e-01,\n",
            "         1.3946e-01, -1.8657e-01,  3.2772e-02, -4.8408e-01, -2.9765e-01,\n",
            "         7.1304e-02, -6.6316e-02,  6.8715e-01,  6.1438e-01, -1.9242e-01,\n",
            "        -6.2556e-01,  1.7427e-01, -2.2173e-01,  2.4614e-01, -2.5216e-01,\n",
            "         7.1403e-01,  5.4811e-01,  2.0679e-01, -1.0993e-01, -1.1617e+00,\n",
            "         2.6240e-01,  8.6397e-01, -2.8306e-01, -9.2392e-02,  8.6255e-01,\n",
            "        -8.5964e-01, -3.5755e-01, -9.8958e-01,  6.1700e-01, -1.0296e-01,\n",
            "         4.9336e-01,  3.2656e-01,  1.6123e-02,  1.1507e+00,  1.6965e-02,\n",
            "         2.3548e-01,  6.7336e-02,  2.7806e-01,  5.1284e-01, -9.4474e-02,\n",
            "        -4.0783e-01,  5.7677e-01, -1.4633e-01, -2.8794e-01, -1.4963e-01,\n",
            "        -7.4061e-01, -5.0053e-01,  2.7328e-02,  2.2884e-01, -1.1524e-01,\n",
            "         1.1495e-01, -5.6066e-01,  5.0709e-01,  8.9152e-01, -5.8903e-01,\n",
            "         4.4660e-01,  2.0069e-01,  7.0972e-01, -2.6419e-01,  4.4240e-02,\n",
            "        -5.0911e-01, -2.0404e-01,  1.5103e-01, -9.3113e-01,  3.2133e-01,\n",
            "         3.9443e-01, -5.0925e-02,  7.2319e-01, -4.1888e-02, -3.5535e-01,\n",
            "         7.9060e-01,  1.0555e-01,  4.3925e-01,  9.1393e-01, -2.3325e-01,\n",
            "         2.1543e-01, -9.3031e-01, -5.0314e-01, -9.0115e-02,  1.6722e-01,\n",
            "        -9.2081e-01, -9.0417e-01, -1.5986e-01,  9.1413e-01,  6.4187e-01,\n",
            "         2.1423e-01,  3.0400e-01, -4.9414e-01, -7.1848e-01, -4.4324e-01,\n",
            "         2.1843e-01, -1.9269e-01, -2.9904e-01,  1.7131e-01,  7.4252e-03,\n",
            "        -3.6988e-01, -1.9104e-01,  5.4989e-01, -3.6837e-01,  3.3604e-01,\n",
            "        -1.9117e-01,  4.6502e-01,  9.2359e-01, -3.7871e-01, -8.7719e-01,\n",
            "        -1.5038e-01, -3.1293e-01,  4.2056e-02,  1.2897e-01, -1.1622e+00,\n",
            "        -1.9353e-01,  3.4539e-01, -3.1322e-01,  2.1217e-01,  2.4127e-01,\n",
            "         6.6365e-01,  1.3202e+00,  1.7209e+00, -9.0736e-02, -1.3740e-01,\n",
            "         1.7065e-01,  1.3000e-01,  1.4574e-01, -5.8939e-01, -4.8469e-02,\n",
            "        -3.8754e-02,  5.5972e-01,  1.5366e-02, -6.4931e-01,  1.3636e-02,\n",
            "        -8.1541e-01,  5.1227e-03, -2.9400e-01,  2.2982e-01, -2.8351e-01,\n",
            "        -7.5578e-02,  7.9234e-01,  4.0074e-01,  2.5623e-01, -5.9458e-01,\n",
            "         1.0071e-01,  6.6371e-01, -6.1292e-01, -1.8677e-01,  5.2102e-01,\n",
            "        -9.0742e-01, -1.5931e-01,  1.4079e-01, -2.5810e-01,  8.8953e-01,\n",
            "         7.7417e-01,  6.3057e-02,  6.7334e-01, -3.3544e-01, -5.7211e-01,\n",
            "        -2.8516e-01, -8.4316e-01, -9.4117e-01,  6.9238e-02,  3.5953e-01,\n",
            "         1.2387e-02,  5.7444e-01, -8.1467e-02,  6.4097e-01, -5.4207e-01,\n",
            "        -1.0385e-01, -4.6389e-01,  3.6543e-01, -9.3671e-02, -3.1246e-02,\n",
            "         3.9662e-01, -3.8530e-01,  2.1389e-01,  8.9344e-01,  2.7747e-01,\n",
            "        -7.8394e-02, -1.3619e-01,  2.7752e-01, -7.7788e-01, -6.2565e-01,\n",
            "         3.1383e-01,  5.6381e-01, -8.7517e-01,  4.5453e-01, -1.2824e-01,\n",
            "        -7.2094e-01, -4.5757e-01,  3.4165e-01,  1.0062e-02, -2.6788e-01,\n",
            "         7.3248e-02,  7.1409e-01,  1.0533e-01,  2.2675e-01, -7.9228e-01,\n",
            "         6.7492e-02,  1.8099e-01,  7.6366e-01,  7.3451e-02, -5.7569e-01,\n",
            "         4.2341e-01,  2.1286e-01,  4.1009e-01, -1.6862e-01,  1.4364e-01,\n",
            "        -5.8574e-01, -8.4531e-01, -3.2423e-01,  5.2479e-02, -5.4471e-01,\n",
            "        -4.3137e-01,  3.3298e-02, -1.6347e-01, -4.0648e-01, -1.0556e-02,\n",
            "        -2.3296e-01,  2.3940e-01,  1.2415e+00, -3.3868e-01, -3.5264e-01,\n",
            "        -6.9799e-01, -4.0490e-01,  9.1308e-02,  4.6829e-02,  2.7783e-01,\n",
            "         1.0299e-01, -8.5067e-01,  1.0017e-01,  4.9664e-01, -2.5196e-01,\n",
            "        -1.5024e-01, -9.3172e-02,  1.2205e-01,  6.4053e-01, -6.8694e-01,\n",
            "        -5.8675e-01, -2.7893e-01, -7.8349e-02,  2.0141e-03, -5.4265e-01,\n",
            "         9.2401e-01,  1.1325e+00, -1.0624e-01, -1.5667e-01, -6.0908e-02,\n",
            "         2.2216e-02, -8.5952e-01, -9.2810e-01,  2.9610e-01, -1.0276e-01,\n",
            "        -4.2784e-01, -1.2080e+00,  1.4369e+00, -9.0072e-01,  2.1042e-01,\n",
            "        -4.8537e-02,  1.4160e-01, -4.0936e-01, -9.0161e-02,  1.0120e-01,\n",
            "         6.1992e-02,  3.1978e-01,  3.7470e-01,  3.2243e-02, -2.1874e-01,\n",
            "        -2.0103e-01,  5.3346e-01,  5.0065e-01,  6.7963e-01, -3.4748e-01,\n",
            "         3.3467e-02,  1.2001e-01, -7.2421e-01, -2.1190e-01,  6.5673e-01,\n",
            "        -3.2212e-01, -6.7510e-01, -4.7673e-01,  3.3139e-01,  3.2312e-01,\n",
            "        -6.1197e-01,  8.3878e-01, -1.6264e-01, -5.3180e-01,  7.4694e-02,\n",
            "         4.1001e-01,  1.0487e-01, -2.9350e-02,  6.1608e-01, -7.6752e-02,\n",
            "         5.6262e-02,  4.7959e-01, -3.1424e-01, -8.8990e-01, -1.3158e+00,\n",
            "         3.2844e-01,  2.9571e-01,  8.4959e-01, -9.9952e-01,  3.1011e-01,\n",
            "        -9.2624e-02,  7.5866e-01, -5.0468e-01,  1.8641e-01, -1.0785e-01,\n",
            "        -9.1124e-01,  3.4210e-01,  1.1892e-01, -2.8882e-01, -2.4118e-01,\n",
            "         2.2384e-01, -9.0679e-01,  2.0476e-01, -7.5148e-01, -6.0602e-01,\n",
            "         5.5211e-01, -1.3994e-01, -2.8419e-01,  1.0485e+00, -1.4677e-02,\n",
            "         2.2534e-01,  4.6708e-03, -2.6206e-01, -6.0473e-01, -3.7535e-01,\n",
            "         7.2222e-03,  1.0751e-01, -4.7646e-01])\n"
          ]
        }
      ],
      "source": [
        "# Tokenize input text\n",
        "text = \"bank\"\n",
        "word_to_extract = \"bank\"\n",
        "inputs = tokenizer(text, return_tensors=\"pt\", padding=True, truncation=True)\n",
        "\n",
        "# Get the position of the word we're interested in\n",
        "tokens = tokenizer.convert_ids_to_tokens(inputs[\"input_ids\"][0])\n",
        "word_index = tokens.index(word_to_extract)\n",
        "\n",
        "# Pass tokens through BERT\n",
        "with torch.no_grad():\n",
        "    outputs = model(**inputs)\n",
        "\n",
        "# Extract embeddings\n",
        "embeddings = outputs.last_hidden_state  # Embeddings for each token\n",
        "\n",
        "# Print embeddings shape\n",
        "print(\"Embeddings shape:\", embeddings.shape)  # Example shape: (1, num_tokens, hidden_size)\n",
        "\n",
        "# Now let's isolate the word embedding for the word bank\n",
        "bank_emb = embeddings[0][word_index]\n",
        "\n",
        "print(\"Word embedding for the single word bank:\", bank_emb)"
      ]
    },
    {
      "cell_type": "markdown",
      "metadata": {
        "id": "CJ-G9wtB4ykD"
      },
      "source": [
        "### Problem 1.1: Extract contextualized word embeddings [10 points]\n",
        "\n",
        "What Are Contextualized Word Embeddings?\n",
        "\n",
        "Unlike traditional word embeddings like Word2Vec or GloVe, which give a fixed vector representation for a word regardless of context, contextualized word embeddings are dynamic. In models like BERT, the same word can have different meanings depending on the surrounding words, and its embedding will reflect this.\n",
        "\n",
        "For example, the word bank can refer to a financial institution in one sentence or the side of a river in another. BERT takes into account the entire sentence when generating the embedding for bank, allowing it to capture the specific meaning based on the context.\n",
        "\n",
        "In this task, you’ll extract and visualize the embeddings for the word bank in various sentences to see how its representation changes depending on the context."
      ]
    },
    {
      "cell_type": "code",
      "execution_count": null,
      "metadata": {
        "id": "NGItAqOr1rRZ"
      },
      "outputs": [],
      "source": [
        "def extract_word_embeddings_from_sentence(sentence, word_to_extract):\n",
        "\n",
        "      # Tokenize input text\n",
        "      inputs = tokenizer(sentence, return_tensors=\"pt\", padding=True, truncation=True)\n",
        "\n",
        "      # Get the position of the word we're interested in\n",
        "      tokens = tokenizer.convert_ids_to_tokens(inputs[\"input_ids\"][0])\n",
        "      word_index = tokens.index(word_to_extract)\n",
        "\n",
        "      # Pass tokens through BERT\n",
        "      with torch.no_grad():\n",
        "          outputs = model(**inputs)\n",
        "\n",
        "      # Extract embeddings\n",
        "      embeddings = outputs.last_hidden_state  # Embeddings for each token\n",
        "\n",
        "      context_bank_emb = None # store the word embeddings for the target word in this variable\n",
        "\n",
        "      ##### ---------- INSERT YOUR CODE HERE ---------- #####\n",
        "\n",
        "      context_bank_emb = embeddings[0][word_index]\n",
        "\n",
        "\n",
        "\n",
        "      ##### ---------- END CODE HERE ---------- #####\n",
        "\n",
        "      return context_bank_emb"
      ]
    },
    {
      "cell_type": "code",
      "execution_count": null,
      "metadata": {
        "id": "l1ls8Gv5F22j",
        "colab": {
          "base_uri": "https://localhost:8080/"
        },
        "outputId": "844c976b-d14f-475e-cd48-87b9ab1ca064"
      },
      "outputs": [
        {
          "output_type": "stream",
          "name": "stdout",
          "text": [
            "torch.Size([768])\n",
            "tensor([ 3.9973e-01, -2.6108e-01, -3.5468e-01,  2.8025e-01,  1.1342e+00,\n",
            "         2.7441e-01, -7.5463e-01,  6.8329e-01,  3.6226e-01,  1.9091e-02,\n",
            "         1.0049e-01, -4.2025e-01,  3.0898e-01,  1.4186e-01, -6.4435e-01,\n",
            "         1.2720e-01,  2.5645e-01,  7.1529e-01,  6.0978e-01,  2.8755e-01,\n",
            "        -2.2998e-01,  1.2590e-01,  3.6411e-01,  4.6092e-01,  1.4862e-01,\n",
            "         2.1506e-01,  4.5253e-01,  7.9881e-01, -2.0808e-01, -1.5427e-01,\n",
            "         6.1394e-01,  9.1024e-01,  2.6142e-02,  2.2617e-01,  9.4530e-02,\n",
            "         7.0062e-02, -2.7300e-02, -1.8833e-01, -1.1544e+00,  4.4221e-01,\n",
            "        -2.6135e-01, -6.8278e-01, -5.8174e-01,  7.8444e-01, -7.0938e-01,\n",
            "        -4.5243e-01, -1.7614e-01,  3.1539e-01, -2.9757e-01, -8.0405e-01,\n",
            "        -3.5972e-01,  9.7657e-01,  4.4274e-01, -5.4916e-01,  4.2320e-02,\n",
            "         5.1594e-01, -6.7635e-01, -5.9293e-01, -3.0064e-02, -4.8220e-01,\n",
            "         6.2881e-01,  3.4256e-01,  7.4228e-01, -8.6559e-01, -9.7830e-02,\n",
            "        -3.8727e-01,  2.5238e-02,  1.1080e-01, -5.3333e-01, -3.0202e-01,\n",
            "        -2.8615e-02,  1.6461e+00, -7.6970e-01, -5.5082e-01, -3.2667e-01,\n",
            "        -1.4866e-01, -2.4300e-01,  1.4748e-01, -5.2873e-01,  2.5700e-01,\n",
            "        -4.4827e-01, -5.7249e-01, -1.3992e-01,  1.8461e-01,  7.8696e-02,\n",
            "        -4.2141e-01, -3.3502e-01,  1.0853e-01, -3.6644e-01,  2.1813e-01,\n",
            "        -2.7927e-01, -1.0476e-01, -7.5274e-01, -2.9633e-01, -1.2029e+00,\n",
            "        -2.6720e-01,  2.2928e-01, -2.7687e-01,  1.9393e-01,  2.9775e-01,\n",
            "         6.7817e-01, -1.2699e+00,  1.4883e-01,  1.7372e-01, -7.8560e-01,\n",
            "         2.9413e-03, -8.8481e-01, -3.9395e-01, -6.3626e-02,  9.2748e-02,\n",
            "         1.7753e-01, -3.7978e-01, -1.7112e-02, -6.1892e-01, -5.2773e-01,\n",
            "         1.7110e-01,  3.0488e-01, -1.0421e+00, -5.4971e-01, -2.4682e-01,\n",
            "         8.6335e-02,  9.5456e-01,  2.3992e-02,  1.0919e+00,  2.8686e-01,\n",
            "        -2.7968e-01, -7.2194e-02,  6.9585e-01, -9.5848e-01, -4.3379e-01,\n",
            "        -4.4704e-02,  1.4210e-01, -2.0563e-01, -1.3821e-01, -1.3492e-01,\n",
            "        -5.1626e-01, -1.0963e-01, -7.6670e-01, -7.3349e-01,  5.4338e-02,\n",
            "         5.1171e-01,  4.8013e-01, -5.3978e-02,  9.1926e-01, -1.9647e-01,\n",
            "         2.1897e-01,  4.1424e-01, -4.2281e-01, -1.8673e-01,  1.5626e-01,\n",
            "         7.2231e-01, -2.1294e-01, -2.6474e-01, -4.7229e-01,  4.9714e-02,\n",
            "         2.2605e-01, -5.9499e-01,  4.3108e-01, -9.1121e-01,  5.4585e-01,\n",
            "         3.8161e-02,  8.1211e-02,  2.7910e-02, -2.2174e-01, -5.4194e-01,\n",
            "        -7.1777e-01,  8.8078e-01,  3.1536e-02, -4.7022e-01,  1.5169e-01,\n",
            "        -5.2706e-01, -4.9559e-01,  9.3172e-01,  7.1541e-02,  9.6689e-01,\n",
            "         4.3709e-01, -1.0025e+00, -4.3384e-01,  2.5975e-01,  6.3949e-01,\n",
            "        -4.7602e-02,  1.1930e+00,  4.8536e-01,  6.5836e-01,  1.2904e+00,\n",
            "        -3.5260e-01, -1.6502e-02,  4.8406e-01,  4.5000e-01, -2.5369e-01,\n",
            "        -5.0503e-01, -7.0555e-01, -1.4363e-01,  2.1482e-01, -6.7758e-02,\n",
            "        -1.9320e-01, -2.5481e-01, -3.3400e-01, -7.4218e-01, -3.7204e-01,\n",
            "         3.5874e-01, -1.2020e+00,  1.5007e-01,  1.1913e-02,  1.9203e-01,\n",
            "         3.3295e-02,  2.0631e-01,  5.9885e-01,  1.1749e+00, -5.0850e-01,\n",
            "        -6.1298e-01,  3.1608e-01, -8.6228e-01,  1.5068e-01,  4.8681e-02,\n",
            "         4.7511e-01,  2.5602e-02,  7.1949e-02, -1.6199e-02, -5.3939e-02,\n",
            "         4.6402e-01, -4.3072e-03, -2.5631e-01,  9.2033e-01, -1.1856e-01,\n",
            "         6.3047e-01,  5.6102e-01, -3.3033e-01, -7.6401e-02,  6.4873e-02,\n",
            "         3.4997e-01, -2.2567e-01,  6.6670e-01, -1.7855e-01, -1.4032e-01,\n",
            "        -4.2419e-02, -1.9464e+00, -4.5849e-01, -2.0351e-01,  1.5378e-01,\n",
            "        -1.5371e-01,  3.3207e-01, -2.2698e-01, -1.1710e-02,  2.6097e-01,\n",
            "         8.5494e-01, -1.7713e-02, -8.7327e-01, -2.2053e-02, -4.5536e-01,\n",
            "        -3.7399e-01, -1.6241e+00, -5.1923e-01, -4.6112e-01,  8.6797e-01,\n",
            "         5.2634e-02,  8.5653e-02, -6.9128e-01, -6.2927e-01,  5.0763e-01,\n",
            "         1.0263e+00, -3.6392e-01,  7.4515e-01,  1.9081e-01, -4.4015e-01,\n",
            "        -2.0616e-01, -2.3122e-02,  1.3087e-01,  2.6879e-01,  7.9228e-01,\n",
            "         5.1130e-01,  2.1431e-01,  1.2469e-01,  1.0257e+00,  6.4823e-01,\n",
            "         1.2179e-01, -4.2387e-02,  7.8107e-01, -7.0108e-02,  4.1670e-01,\n",
            "         4.2746e-01,  8.0205e-01, -1.7729e-01, -5.3867e-01,  3.5532e-01,\n",
            "        -3.9251e-01, -4.9949e-01,  1.8164e+00, -4.8405e-01, -4.5904e-01,\n",
            "        -3.4620e-01,  3.5026e-01, -1.0227e+00, -6.7339e-01, -5.5214e-01,\n",
            "         3.1211e-01,  1.3437e-01,  1.0244e+00,  7.5874e-01, -6.1848e-03,\n",
            "         2.1536e-01, -5.5402e-01,  9.0168e-01, -3.3878e-01, -5.9622e-01,\n",
            "         1.8014e-01, -3.2268e-01, -2.9326e-01, -4.0331e+00,  1.0414e+00,\n",
            "        -1.0178e-01,  6.9167e-02,  3.0353e-01, -9.9232e-02,  8.5998e-02,\n",
            "        -1.8343e-01, -6.8269e-01,  1.5048e-01, -4.9675e-01, -6.5293e-01,\n",
            "         7.0695e-01, -8.7146e-02,  1.3759e-01,  1.0128e-01,  5.4843e-01,\n",
            "         2.4470e-01, -1.7404e-01,  5.7815e-02,  1.1415e-01, -5.2871e-01,\n",
            "        -3.8105e-01,  3.8386e-01,  7.6888e-01,  3.9300e-01, -7.2096e-01,\n",
            "         4.3991e-01, -9.4515e-02,  3.8276e-01,  7.6791e-01, -4.8945e-01,\n",
            "         3.6339e-01,  6.8957e-02,  3.1469e-02, -3.2113e-01, -3.3077e-01,\n",
            "         5.2123e-01,  6.0175e-01, -1.7304e-01, -2.4323e-01,  4.7680e-01,\n",
            "         3.5577e-02,  2.6536e-01,  1.3557e+00, -5.6864e-01,  1.1093e-01,\n",
            "         4.2700e-01, -1.9766e-02,  9.4358e-01,  4.6327e-01,  2.0751e-01,\n",
            "         1.4119e-01,  3.2319e-01,  4.8868e-01,  5.9271e-01,  2.8786e-01,\n",
            "         6.8773e-01,  5.3630e-01,  4.7950e-02, -3.9705e-01, -2.8375e-01,\n",
            "         1.0083e-01, -5.7994e-01, -3.4012e-01, -4.2451e-01, -9.6583e-01,\n",
            "        -6.0196e-01,  8.7657e-02,  2.0611e-01,  6.0108e-02,  1.9955e-01,\n",
            "         2.8203e-01, -9.7556e-01, -3.0053e-01, -2.2448e-01,  8.1820e-01,\n",
            "         4.0265e-01, -3.3851e-02, -1.0697e-01,  8.5853e-01, -4.6206e-01,\n",
            "         3.1108e-01, -2.3926e-01,  1.3926e-01,  3.1184e-01,  1.8691e-01,\n",
            "        -6.9080e-01, -9.4697e-01, -2.2463e-01,  6.4684e-01,  7.3238e-01,\n",
            "        -1.9280e-01, -9.2040e-01, -3.1851e-01,  1.9978e-01, -5.5794e-01,\n",
            "         1.9607e-01,  1.7789e-01, -3.8371e-01, -3.4144e-01,  1.1032e+00,\n",
            "         2.1900e-01,  5.4124e-02,  2.5124e-01,  3.4855e-01, -5.2996e-01,\n",
            "        -3.8869e-02, -7.0238e-01,  1.0071e+00,  4.8824e-01, -6.9708e-01,\n",
            "         9.6139e-01, -4.5108e-01,  2.7602e-01,  7.1658e-01,  3.2680e-01,\n",
            "        -3.6459e-01,  5.7222e-01, -3.3687e-03, -1.3926e-01, -9.8129e-03,\n",
            "        -2.5116e-01, -7.6418e-01, -5.8774e-01,  4.7990e-02,  1.3786e-01,\n",
            "         4.4841e-02, -6.3726e-01, -2.4922e-01, -6.7242e-02, -9.9399e-02,\n",
            "        -3.9453e-01,  5.0589e-01,  7.7159e-03,  3.1193e-01, -2.6161e-01,\n",
            "        -4.6233e-01, -1.1278e-03, -3.3158e-01,  4.2486e-01,  6.3354e-01,\n",
            "        -2.8329e-01, -2.7731e-01, -5.6411e-01, -8.0053e-01, -3.1883e-01,\n",
            "         3.2214e-01,  6.8199e-02, -4.5762e-01, -9.4922e-01,  8.9008e-02,\n",
            "         7.3920e-02,  2.1397e-01,  1.1931e-01,  4.5875e-01,  1.0768e+00,\n",
            "         7.5326e-03, -6.0010e-01, -1.0843e+00,  5.2798e-01, -8.8473e-02,\n",
            "         6.2270e-01,  4.0264e-01, -7.0114e-01,  5.0896e-01, -6.9511e-01,\n",
            "         4.2085e-02,  3.0732e-01,  4.9210e-01, -5.1714e-01,  1.7892e-01,\n",
            "         6.4895e-01,  2.1275e-01,  1.8015e-01, -5.4021e-01, -4.1210e-01,\n",
            "        -3.6699e-01,  3.3128e-01,  4.5555e-01, -9.3277e-02, -9.5825e-02,\n",
            "        -2.6379e-01, -8.7316e-01,  1.7077e-01,  5.1700e-01,  1.9975e-01,\n",
            "         5.2662e-01, -3.8937e-01, -5.7184e-02, -1.5288e-01,  1.0656e+00,\n",
            "        -2.7019e-01,  2.6016e-01, -9.6436e-01, -9.5576e-01,  6.0664e-02,\n",
            "         6.8234e-02, -1.2205e-02,  6.2810e-01, -6.2422e-01,  7.5986e-01,\n",
            "        -1.5738e-01,  1.0069e-01,  3.6569e-01,  5.4402e-01,  2.4383e-01,\n",
            "        -3.2158e-01, -5.3831e-01,  5.9200e-01, -2.9593e-01, -4.1338e-01,\n",
            "        -1.5124e+00, -7.6919e-01,  3.2455e-01, -5.4552e-01,  4.6016e-01,\n",
            "        -3.7034e-01,  1.9914e-01,  2.5256e-01, -4.8269e-01, -4.6460e-01,\n",
            "        -6.9277e-01, -2.9746e-02, -1.3471e+00,  4.1901e-01, -2.2817e-01,\n",
            "         9.3128e-01, -9.4067e-01,  1.0894e+00, -2.7548e-01, -2.0444e-01,\n",
            "        -6.3035e-02, -1.8850e-01,  2.1850e-01,  5.1913e-02, -7.8175e-01,\n",
            "        -8.0656e-01,  1.8530e-01,  1.7038e-02, -5.0653e-01, -1.3294e-01,\n",
            "         2.4974e-01,  3.5068e-01, -8.2166e-02,  7.0845e-02,  5.4368e-01,\n",
            "         1.3837e+00,  2.6911e-01,  1.0068e+00,  6.6356e-01,  3.4536e-01,\n",
            "        -1.8117e-01,  7.5091e-02, -1.8367e-01,  9.1057e-01, -2.4603e-01,\n",
            "        -9.4066e-02, -5.5568e-01,  5.4054e-02,  4.2987e-01, -8.2429e-01,\n",
            "        -1.0564e+00,  4.0198e-01,  4.2563e-01, -9.3387e-02,  2.2343e-01,\n",
            "         2.1671e-01,  3.6140e-01, -3.7986e-01,  4.4898e-01, -8.5583e-01,\n",
            "        -1.2885e-01,  1.4046e-02, -3.1092e-01,  9.8152e-02, -1.4208e+00,\n",
            "        -7.0641e-01,  2.8477e-01, -2.3332e-01, -5.6719e-01,  6.0958e-01,\n",
            "        -2.6976e-01,  2.5145e-01, -8.3334e-01,  4.6156e-02, -1.0330e+00,\n",
            "         2.6037e-03, -4.1803e-01, -9.9274e-01,  1.9500e-01,  4.9313e-01,\n",
            "        -1.0873e-01, -3.3864e-01, -4.2635e-01,  7.3479e-01,  4.5147e-01,\n",
            "         2.1520e-01, -3.9734e-01,  3.1529e-01, -1.1658e-01, -2.0714e-01,\n",
            "         5.3037e-01,  4.2581e-01,  6.2390e-02,  2.3353e-01,  3.7225e-02,\n",
            "         1.3026e-02,  5.2927e-01, -3.9938e-03, -8.5089e-01, -1.1094e+00,\n",
            "         6.5316e-01,  1.4575e-01, -1.5418e+00,  2.0483e-01, -1.8717e-01,\n",
            "        -3.4029e-01, -5.6925e-01,  2.0518e-01, -9.6079e-02,  3.0198e-02,\n",
            "         1.7926e-01,  5.6740e-01,  4.5025e-01,  2.9511e-01, -1.9938e-01,\n",
            "        -3.8372e-01,  2.7112e-01,  2.0713e-01, -2.5046e-01,  8.9597e-01,\n",
            "        -5.7828e-01,  4.2068e-02,  3.1802e-01,  9.3776e-02, -8.0648e-01,\n",
            "         2.6411e-01, -1.7769e-01, -2.2417e-01,  3.0145e-01, -4.5550e-01,\n",
            "        -2.3442e-01,  1.2482e+00,  1.1617e-01, -2.8999e-01,  1.6348e-01,\n",
            "         3.1526e-01,  1.0010e+00,  3.9845e-01, -1.1015e-01,  2.2395e-01,\n",
            "        -2.1636e-01, -4.4429e-01, -5.3216e-02,  3.4408e-01,  8.2575e-02,\n",
            "        -3.5002e-01, -3.7506e-01,  6.7697e-01,  2.5740e-01,  2.1573e-01,\n",
            "         2.7564e-01, -7.3260e-01,  3.7892e-01,  4.2642e-01, -3.2867e-01,\n",
            "        -6.1931e-01, -8.4597e-02,  7.4620e-01,  3.2843e-01, -9.0771e-01,\n",
            "         1.0611e+00,  7.4271e-01,  1.6551e-01, -7.3594e-01, -4.7036e-01,\n",
            "         1.7580e-01,  2.2645e-01, -5.6155e-01,  4.3033e-01, -3.1439e-01,\n",
            "        -4.2900e-01, -1.0971e+00, -3.8043e-01, -8.2670e-01,  5.1572e-01,\n",
            "        -4.4618e-01, -1.0802e-01, -5.5692e-01,  2.8610e-01, -1.3529e-01,\n",
            "        -3.1286e-01,  7.9231e-01, -1.1958e-01, -3.5299e-01,  4.4281e-01,\n",
            "         3.6905e-01,  8.0154e-01, -5.2266e-02,  8.2526e-01, -3.8813e-01,\n",
            "         3.5923e-03,  1.6437e-01,  8.8545e-01,  8.1612e-02,  7.0422e-01,\n",
            "        -4.4706e-01, -1.1890e+00,  5.6582e-02,  6.6465e-01,  2.2330e-01,\n",
            "        -3.7829e-01,  9.0222e-01,  4.5843e-01, -5.1091e-01,  3.1365e-01,\n",
            "         3.6743e-01, -4.0709e-01,  1.7926e-02,  1.0698e-01,  5.5685e-01,\n",
            "        -5.8133e-01, -1.8868e-01, -5.1444e-01, -4.4897e-01, -3.3373e-01,\n",
            "         7.3877e-01,  1.6223e-01,  3.2448e-01, -1.1575e+00, -4.6226e-01,\n",
            "         6.0214e-01,  1.1487e+00,  1.5783e-01, -8.6394e-01,  6.1897e-01,\n",
            "         1.8238e-01, -4.1811e-01,  2.4896e-01,  5.0122e-01,  2.4682e-01,\n",
            "         3.3680e-01,  4.4616e-02,  8.2235e-01, -2.0795e-01, -3.5407e-01,\n",
            "        -3.8804e-01, -5.1346e-02, -6.0638e-01, -3.2756e-01, -8.6176e-01,\n",
            "        -2.6140e-01, -5.9371e-02, -3.1386e-01, -6.9259e-01, -4.1591e-01,\n",
            "        -6.5244e-01, -1.4942e-02, -3.7854e-02])\n"
          ]
        }
      ],
      "source": [
        "context_bank_emb = extract_word_embeddings_from_sentence(\"The local bank approved the loan.\", \"bank\")\n",
        "\n",
        "print(context_bank_emb.shape) # If the code that you completed is correct, the output of this command should be: torch.Size([768])\n",
        "print(context_bank_emb)"
      ]
    },
    {
      "cell_type": "markdown",
      "metadata": {
        "id": "xhtjLVhc50g8"
      },
      "source": [
        "Both `bank_emb` and `context_bank_emb` are word embeddings for the word *bank*. However, if you take a closer look to the two embedding vectors, they must significantly different. *If not, please check your code again.*\n",
        "\n",
        "\n",
        "\n"
      ]
    },
    {
      "cell_type": "markdown",
      "metadata": {
        "id": "EDZJ97oT6z8a"
      },
      "source": [
        "### Problem 1.2: Visualizing Contextualized Word Embeddings with PCA [20 points]"
      ]
    },
    {
      "cell_type": "markdown",
      "metadata": {
        "id": "z_kcYy5k65Xj"
      },
      "source": [
        "In this part of the assignment, we’ll visualize how BERT generates different embeddings for the same word depending on the context it’s used in. We’ll focus on the word bank, which can have different meanings based on the sentence.\n",
        "\n",
        "We’ll first extract embeddings for the word bank in three different scenarios:\n",
        "\n",
        "*   Without any context: The word bank by itself.\n",
        "*   In a financial context: The sentence “The local bank approved the loan.”\n",
        "*   In a nature context: The sentence “The fisherman sat by the river bank.”\n",
        "\n",
        "\n",
        "By passing these sentences through a pre-trained BERT model, we’ll retrieve embeddings for each word in the sentence. These embeddings are high-dimensional vectors (768 dimensions) that capture the meaning of each word, including how it relates to other words in the sentence.\n",
        "\n",
        "2.\tDimensionality Reduction with PCA:\n",
        "\n",
        "Since it’s difficult to visualize embeddings in 768 dimensions, we’ll use Principal Component Analysis (PCA) to reduce the dimensionality of the embeddings to 2D space. This allows us to plot the embeddings and visually compare them.\n",
        "\n",
        "3.\tVisualization:\n",
        "\n",
        "We’ll then plot the word embeddings in different colors:\n",
        "*  Blue for the word bank without any context.\n",
        "*  Green for the sentence “The local bank approved the loan.”\n",
        "*  Red for the sentence “The fisherman sat by the river bank.”"
      ]
    },
    {
      "cell_type": "code",
      "execution_count": null,
      "metadata": {
        "id": "FRi5W3kbJwrw"
      },
      "outputs": [],
      "source": [
        "# Function to extract embeddings for all words in the sentence\n",
        "def get_all_word_embeddings(sentence):\n",
        "    \"\"\"Get BERT embeddings for all words in a given sentence.\"\"\"\n",
        "    # Tokenize input text\n",
        "    inputs = tokenizer(sentence, return_tensors=\"pt\", padding=True, truncation=True)\n",
        "\n",
        "    # Pass tokens through BERT\n",
        "    with torch.no_grad():\n",
        "        outputs = model(**inputs)\n",
        "\n",
        "    # Extract the embeddings for all tokens (ignore [CLS] and [SEP] tokens)\n",
        "    embeddings = outputs.last_hidden_state[:, 1:-1, :]  # Exclude [CLS] and [SEP]\n",
        "\n",
        "    # Convert to numpy and return embeddings and tokens\n",
        "    return embeddings.squeeze(0).numpy(), tokenizer.convert_ids_to_tokens(inputs[\"input_ids\"][0][1:-1])"
      ]
    },
    {
      "cell_type": "code",
      "execution_count": null,
      "metadata": {
        "id": "spcXpz8pPjdb"
      },
      "outputs": [],
      "source": [
        "# Visualization function\n",
        "def visualize_word_embeddings_with_pca(sentences, colors):\n",
        "    \"\"\"Visualize word embeddings using PCA for multiple sentences.\"\"\"\n",
        "    all_embeddings, all_tokens = [], []\n",
        "\n",
        "    # Extract embeddings and tokens for each sentence\n",
        "    for sentence in sentences:\n",
        "        embeddings, tokens = get_all_word_embeddings(sentence)\n",
        "        all_embeddings.append(embeddings)\n",
        "        all_tokens.append(tokens)\n",
        "\n",
        "    # Flatten the embeddings and apply PCA\n",
        "    flattened_embeddings = torch.tensor([embedding for sentence_embeddings in all_embeddings for embedding in sentence_embeddings]).numpy()\n",
        "\n",
        "    # Perform PCA to reduce dimensionality to 2D\n",
        "    pca = PCA(n_components=2)\n",
        "    reduced_embeddings = pca.fit_transform(flattened_embeddings)\n",
        "\n",
        "    plt.figure(figsize=(8, 8))\n",
        "\n",
        "    # Keep track of the offset to handle tokens from multiple sentences\n",
        "    offset = 0\n",
        "    for sentence_tokens, color in zip(all_tokens, colors):\n",
        "        for i, token in enumerate(sentence_tokens):\n",
        "            # Plot each token's reduced embedding in the 2D space\n",
        "            plt.scatter(reduced_embeddings[offset + i, 0], reduced_embeddings[offset + i, 1], color=color)\n",
        "            plt.text(reduced_embeddings[offset + i, 0] + 0.01, reduced_embeddings[offset + i, 1], token, fontsize=12, color=color)\n",
        "\n",
        "        # Update offset to handle the next sentence's embeddings\n",
        "        offset += len(sentence_tokens)\n",
        "\n",
        "    # Customize plot appearance\n",
        "    plt.title(\"PCA Visualization of Word Embeddings for Sentences\")\n",
        "    plt.xlabel(\"PCA Component 1\")\n",
        "    plt.ylabel(\"PCA Component 2\")\n",
        "    plt.grid(True)\n",
        "    plt.show()"
      ]
    },
    {
      "cell_type": "code",
      "execution_count": null,
      "metadata": {
        "id": "KSq-PZ06PkWx",
        "colab": {
          "base_uri": "https://localhost:8080/",
          "height": 774
        },
        "outputId": "6e44b2ea-c256-467a-aa0e-d0b976db4e27"
      },
      "outputs": [
        {
          "output_type": "stream",
          "name": "stderr",
          "text": [
            "<ipython-input-10-79457fe9f600>:13: UserWarning: Creating a tensor from a list of numpy.ndarrays is extremely slow. Please consider converting the list to a single numpy.ndarray with numpy.array() before converting to a tensor. (Triggered internally at ../torch/csrc/utils/tensor_new.cpp:278.)\n",
            "  flattened_embeddings = torch.tensor([embedding for sentence_embeddings in all_embeddings for embedding in sentence_embeddings]).numpy()\n"
          ]
        },
        {
          "output_type": "display_data",
          "data": {
            "text/plain": [
              "<Figure size 800x800 with 1 Axes>"
            ],
            "image/png": "[encoded data removed]"
          },
          "metadata": {}
        }
      ],
      "source": [
        "# Example sentences\n",
        "sentences = [\n",
        "    \"bank\",\n",
        "    \"The local bank approved the loan.\",\n",
        "    \"The fisherman sat by the river bank.\"\n",
        "]\n",
        "\n",
        "# Define colors for each sentence\n",
        "colors = ['blue', 'green', 'red']\n",
        "\n",
        "# Visualize the embeddings using PCA\n",
        "visualize_word_embeddings_with_pca(sentences, colors)"
      ]
    },
    {
      "cell_type": "markdown",
      "metadata": {
        "id": "JGaHgZu5QluB"
      },
      "source": [
        "By plotting these points, we observe how BERT places the word bank in different locations in the embedding space based on its surrounding context. Words that are used in similar contexts (such as loan and bank in the financial sentence) are closer together in the 2D space, while the word bank in the nature context should appear further from the financial context. Moreover, the representation of the word bank when there is no context is also far from both the financial and the nature context of the same word."
      ]
    },
    {
      "cell_type": "markdown",
      "metadata": {
        "id": "OLiD_r8ARVY1"
      },
      "source": [
        "### A. Exploring Contextualized Word Embeddings with a New Word (10/20 points)\n",
        "\n",
        "Now that you have observed how the word bank changes its meaning based on context using BERT’s contextualized embeddings, it’s time to extend this idea to another word.\n",
        "\n",
        "Your task is to choose a different word that has multiple meanings depending on the context.\n",
        "\n",
        "Once you’ve chosen your word, write two sentences that clearly demonstrate its different meanings in different contexts. Then, using the same approach we applied to the word *bank*, extract and visualize the word embeddings for each sentence as well as the word standalone. This will allow you to observe how BERT adjusts the word’s representation depending on the surrounding text.\n",
        "\n",
        "Note: Use the `visualize_word_embeddings_with_pca` function which can be found above."
      ]
    },
    {
      "cell_type": "code",
      "execution_count": null,
      "metadata": {
        "id": "fTK8RaZiRkwj",
        "colab": {
          "base_uri": "https://localhost:8080/",
          "height": 718
        },
        "outputId": "8f94dd93-0aae-4652-8473-28fed79293f5"
      },
      "outputs": [
        {
          "output_type": "display_data",
          "data": {
            "text/plain": [
              "<Figure size 800x800 with 1 Axes>"
            ],
            "image/png": "[encoded data removed]"
          },
          "metadata": {}
        }
      ],
      "source": [
        "##### ---------- INSERT YOUR CODE HERE ---------- #####\n",
        "# Example sentences\n",
        "sentences = [\n",
        "    \"mouse\",\n",
        "    \"The big rodent mouse ate food\",\n",
        "    \"My new mouse for my computer works\"\n",
        "]\n",
        "\n",
        "\n",
        "# Visualize the embeddings using PCA\n",
        "visualize_word_embeddings_with_pca(sentences, colors)\n",
        "\n",
        "\n",
        "##### ---------- END CODE HERE ---------- #####"
      ]
    },
    {
      "cell_type": "markdown",
      "metadata": {
        "id": "xDR32ZAoVxl8"
      },
      "source": [
        "### B. Observing Contextual Similarity (10/20 points)\n",
        "\n",
        "In the following visualization, you can see that the words “discussion” and \"debate\" are positioned far apart in the 2D space, reflecting their different meanings when viewed in isolation."
      ]
    },
    {
      "cell_type": "code",
      "execution_count": null,
      "metadata": {
        "id": "NBuMKxN9UWkD",
        "colab": {
          "base_uri": "https://localhost:8080/",
          "height": 733
        },
        "outputId": "d7e1099d-89a6-4ebb-f25a-71a95192c9c6"
      },
      "outputs": [
        {
          "output_type": "display_data",
          "data": {
            "text/plain": [
              "<Figure size 800x800 with 1 Axes>"
            ],
            "image/png": "[encoded data removed]"
          },
          "metadata": {}
        }
      ],
      "source": [
        "sentences = [\"debate\", \"discussion\"]\n",
        "colors = ['blue', 'green']\n",
        "\n",
        "# Visualize the embeddings using PCA\n",
        "visualize_word_embeddings_with_pca(sentences, colors)"
      ]
    },
    {
      "cell_type": "markdown",
      "metadata": {
        "id": "mjEguJiWWF3F"
      },
      "source": [
        "However, when words are used together in a specific context, BERT adjusts their embeddings, and words that are closely related in meaning or function should fall closer to each other in the 2D space.\n",
        "\n",
        "Your task now is to explore this phenomenon. Use the words “discussion” and \"debate\" in two different sentences where their relationship is clear.\n",
        "\n",
        "Once you’ve written your sentences, extract and visualize the embeddings for the words of the sentences using BERT. Comment on the visualized diagram. Are the embeddings for “discussion” and debate closer to each other in the 2D space when used in the context that you chose? If not, what do you think that went wrong? **Fill in your thoughts in the text cell below.**\n",
        "\n",
        "*Note: There is not a single correct or wrong answer in this question. We want to see your thoughts on the visualized plot, as well as the reasons behind why you chose these two sentences. As long as your answer is justified and reasons on what happened on the plot, it should be more than fine.*"
      ]
    },
    {
      "cell_type": "code",
      "execution_count": null,
      "metadata": {
        "id": "LBiOGyR6S32m",
        "colab": {
          "base_uri": "https://localhost:8080/",
          "height": 718
        },
        "outputId": "78d47cb8-90e5-4475-ed83-a587b557a558"
      },
      "outputs": [
        {
          "output_type": "display_data",
          "data": {
            "text/plain": [
              "<Figure size 800x800 with 1 Axes>"
            ],
            "image/png": "[encoded data removed]"
          },
          "metadata": {}
        }
      ],
      "source": [
        "##### ---------- FILL IN THE SENTENCES IN THE LIST BELOW ---------- #####\n",
        "\n",
        "sentences = [\n",
        "    \"The students had a friendly discussion about cats.\"\n",
        "    \"There was a heated debate about gun control.\"\n",
        "]\n",
        "\n",
        "\n",
        "##### ---------- END OF YOUR CODE ---------- #####\n",
        "\n",
        "\n",
        "# Define colors for each sentence\n",
        "colors = ['blue', 'green']\n",
        "\n",
        "# Visualize the embeddings using PCA\n",
        "visualize_word_embeddings_with_pca(sentences, colors)\n"
      ]
    },
    {
      "cell_type": "markdown",
      "metadata": {
        "id": "roFiThs8XZKf"
      },
      "source": [
        "##**ANSWER HERE:**\n",
        "In the above plot, I observe that all the words are colored blue. Another observation is that debate and discussion are right next to each other. I think this is because in the context of these sentence they are kind of the same word."
      ]
    },
    {
      "cell_type": "markdown",
      "metadata": {
        "id": "Y1gLbpIy2NJI"
      },
      "source": [
        "## Part 2: Text classification using BERT [60/100 points]\n",
        "In the second part of this assignment, you will explore one of the most powerful applications of BERT: text classification. BERT has proven to be highly effective in understanding the context of words and sentences, making it a strong model for tasks like sentiment analysis, topic classification, and more.\n",
        "\n",
        "Your task is to fine-tune a pre-trained BERT model for a text classification problem. You will use BERT’s contextualized embeddings and attention mechanisms to classify text into predefined categories.\n",
        "\n",
        "In this part, you will:\n",
        "\n",
        "\t1.\tPrepare your dataset for text classification.\n",
        "\t2.\tFine-tune BERT on the dataset.\n",
        "\t3.\tEvaluate the model’s performance using accuracy, precision, recall, and other relevant metrics.\n",
        "\n",
        "By the end of this section, you should understand how to adapt BERT for specific tasks and observe its ability to generalize to new text data."
      ]
    },
    {
      "cell_type": "markdown",
      "metadata": {
        "id": "EOcqVJgLwQic"
      },
      "source": [
        "## Problem 2.1. Load Dataset [15 points]\n",
        "\n",
        "Let's first load our dataset. The dataset that we will work with is the [AG News Dataset](https://https://paperswithcode.com/dataset/ag-news). It contains news articles from 4 large categories. The goal is to classify each article into one of the four categories using a language model.\n",
        "\n",
        "```\n",
        "1.\tWorld\n",
        "2.\tSports\n",
        "3.\tBusiness\n",
        "4.\tScience/Technology\n",
        "```\n",
        "\n",
        "We will load the dataset using [HuggingFace's Datasets](https://huggingface.co/docs/datasets/index) library.\n",
        "\n"
      ]
    },
    {
      "cell_type": "code",
      "execution_count": null,
      "metadata": {
        "id": "W40qHRZQ3Wfm",
        "colab": {
          "base_uri": "https://localhost:8080/",
          "height": 501,
          "referenced_widgets": [
            "fdc72b8cb56d4a35a9a9c775447ef4f8",
            "324995de26424b69bb449d78a0d734e9",
            "73d1910ad75b470c9b261acffe8226be",
            "f0fdb405354649d88a91ba22f2b5c2ac",
            "c7895279694047e58164f720d4f70562",
            "2e71f042e01942f9998870f3b4fedd5e",
            "14cb026733264f39b2b8699afdce77eb",
            "c548f84536f340d285a8b4a3c98e05d5",
            "e478fe44200e46d2b547580eb5c44cdd",
            "22513b47843542c281371a44280c73a5",
            "1d6b801b38684780a510e0e2ae637b77",
            "8d0b389226c14542979ca0b0a7cb7110",
            "ab627fd58e9943a583629d5ba8486047",
            "93b930e020db4e6d8aae32246c2e429b",
            "2380c75eac8a4441b808043ccfafbb5c",
            "3c11949d49be4cfc873e46b479cf34d1",
            "c66deb61996a499b89fd9cd32de6c9fa",
            "8207f16a340f437e9e6516b07d218d43",
            "a5bbf9a8d75d4b44aaea5ef2b46d2a49",
            "0b143472a5dd4ecb8194c0a63d21b763",
            "47eb249ff1a743dfb52933863f155555",
            "65d3dd739cae4ccfba4173df8831d8a8",
            "30d88fd4e6b44bb1bf3529191c2d6429",
            "ce92e6ac54f74cd8b47d66dda714b772",
            "01e19e9a4d674a1988077346bc151ff9",
            "bbf9033e315641e594bbc5068166541d",
            "4849b754d0f14399b8c8e1f025eddfd7",
            "ef8b2c44fd1845588bac65cc59551648",
            "31732a2a9ee9452a86e1dc3a84bb8279",
            "df0fcbf917044c2da8d698f0c6ecbb70",
            "39c3ffa29c3a418da3590fdd78324046",
            "4abf68987a7c46b6aa1c2d337c9d1a4c",
            "f9c4b91e089347ad93b10813d1beb8b7",
            "e6f1aea1b2494c66865c759d21b07117",
            "b183f42a3fb64c758372471f05490ef4",
            "152ab610583a4f42baa8be2810de574f",
            "c44e42551ab240eab3e3ad25ec967518",
            "b1902fc35c12453788eed316196f84a4",
            "71bf1df4782a4eaba5c7c55bb8987bd0",
            "5a0cb54ae85b494fb1abebd9b5c206b1",
            "9c7b4359160e44c684c57d385cfe36ad",
            "579bc1eb2fbd4c6b91bdc698836ff594",
            "83ec2976911c476c98141025dacb1207",
            "5c5a9ff8f76c4c4aa2451e9b7385b51f",
            "0f4eef1b48674412ab53af007edeaff5",
            "d3fb21cb5e0947ae9985601faa1e4037",
            "fb55fcf946a14d4ca0e30112c68dc4ac",
            "bd52997e95e749eebeaa0aa2c9497d4d",
            "b7d004c519d5435398057582ec39899f",
            "13be58ce713d4442a26d7779e44f636f",
            "4ba9c0ab4e984fd29890c4eabc265fd2",
            "1fed5df2bcb64cb798d9fff466e78d3d",
            "84d266591dc44dc1978f449a2b5f7c18",
            "38468b75f89849508f9e874317c19231",
            "6cf297d54f3146c88786c4d4a7550663"
          ]
        },
        "outputId": "4a68f7f2-62af-482d-f2ee-3d4d0fb2fc87"
      },
      "outputs": [
        {
          "output_type": "display_data",
          "data": {
            "text/plain": [
              "README.md:   0%|          | 0.00/8.07k [00:00<?, ?B/s]"
            ],
            "application/vnd.jupyter.widget-view+json": {
              "version_major": 2,
              "version_minor": 0,
              "model_id": "fdc72b8cb56d4a35a9a9c775447ef4f8"
            }
          },
          "metadata": {}
        },
        {
          "output_type": "display_data",
          "data": {
            "text/plain": [
              "train-00000-of-00001.parquet:   0%|          | 0.00/18.6M [00:00<?, ?B/s]"
            ],
            "application/vnd.jupyter.widget-view+json": {
              "version_major": 2,
              "version_minor": 0,
              "model_id": "8d0b389226c14542979ca0b0a7cb7110"
            }
          },
          "metadata": {}
        },
        {
          "output_type": "display_data",
          "data": {
            "text/plain": [
              "test-00000-of-00001.parquet:   0%|          | 0.00/1.23M [00:00<?, ?B/s]"
            ],
            "application/vnd.jupyter.widget-view+json": {
              "version_major": 2,
              "version_minor": 0,
              "model_id": "30d88fd4e6b44bb1bf3529191c2d6429"
            }
          },
          "metadata": {}
        },
        {
          "output_type": "display_data",
          "data": {
            "text/plain": [
              "Generating train split:   0%|          | 0/120000 [00:00<?, ? examples/s]"
            ],
            "application/vnd.jupyter.widget-view+json": {
              "version_major": 2,
              "version_minor": 0,
              "model_id": "e6f1aea1b2494c66865c759d21b07117"
            }
          },
          "metadata": {}
        },
        {
          "output_type": "display_data",
          "data": {
            "text/plain": [
              "Generating test split:   0%|          | 0/7600 [00:00<?, ? examples/s]"
            ],
            "application/vnd.jupyter.widget-view+json": {
              "version_major": 2,
              "version_minor": 0,
              "model_id": "0f4eef1b48674412ab53af007edeaff5"
            }
          },
          "metadata": {}
        },
        {
          "output_type": "stream",
          "name": "stdout",
          "text": [
            "----------------------------------------------------------------------------------------------------\n",
            "The structure of the dataset looks like:\n",
            "DatasetDict({\n",
            "    train: Dataset({\n",
            "        features: ['text', 'label'],\n",
            "        num_rows: 120000\n",
            "    })\n",
            "    test: Dataset({\n",
            "        features: ['text', 'label'],\n",
            "        num_rows: 7600\n",
            "    })\n",
            "})\n",
            "----------------------------------------------------------------------------------------------------\n",
            "Train example: {'text': 'Toll Brothers #39; profit soars 56 HUNTINGDON VALLEY, Pa. (Dow Jones/AP) -- Toll Brothers Inc. Wednesday said profit for its latest quarter surged 56 percent as demand for new luxury homes remained strong.', 'label': 2}\n",
            "----------------------------------------------------------------------------------------------------\n",
            "Random test text: Shanghai Readies for Rockets-Kings Game (AP) AP - Built in the days of Mao Zedong's 1966-76 Cultural Revolution, Shanghai's rundown city gymnasium is getting the full NBA treatment for next month's exhibition game between the Sacramento Kings and the Houston Rockets.\n",
            "Random test text: 1\n"
          ]
        }
      ],
      "source": [
        "from datasets import load_dataset\n",
        "import random\n",
        "# Load the dataset through the HuggingFace library\n",
        "dataset = load_dataset(\"ag_news\")\n",
        "\n",
        "\"\"\"\n",
        "Let's promptly explore the dataset.\n",
        "It is divided into two subsets; train and test.\n",
        "Each subset contains thousands of training and test examples respectively.\n",
        "\"\"\"\n",
        "print(\"-\"*100)\n",
        "print(f\"The structure of the dataset looks like:\\n{dataset}\")\n",
        "print(\"-\"*100)\n",
        "\n",
        "# Let's now sample a random element from the train dataset\n",
        "print(\"Train example:\", dataset[\"train\"][random.randint(0, len(dataset[\"train\"]))])\n",
        "\n",
        "print(\"-\"*100)\n",
        "\n",
        "\"\"\"\n",
        "We can see that each example contains a text and a label.\n",
        "The text will be the input of our model, while the label is the target output.\n",
        "\"\"\"\n",
        "idx = random.randint(0, len(dataset[\"test\"]))\n",
        "print(\"Random test text:\", dataset[\"test\"][idx][\"text\"])\n",
        "print(\"Random test text:\", dataset[\"test\"][idx][\"label\"])"
      ]
    },
    {
      "cell_type": "markdown",
      "metadata": {
        "id": "uDusLCN07QzT"
      },
      "source": [
        "Your first task is to split the provided dataset into three subsets: a training set, a validation set, and a test set. Specifically, your goal is to:\n",
        "\n",
        "\t•\tCreate a training set with 800 examples.\n",
        "\t•\tCreate a validation set with 400 examples.\n",
        "\t•\tCreate a test set with 500 examples.\n",
        "\n",
        "For the training set, make sure to have a balanced distribution across the different classes to ensure the model learns equally from all categories. Once you have completed the splits, return two lists for each subset: one for the input data (train_x, val_x, test_x) and one for the labels (train_y, val_y, test_y). Complete the function below under the `##### ---------- INSERT YOUR CODE HERE ---------- #####` message.\n",
        "\n",
        " This will prepare the data for fine-tuning the BERT model."
      ]
    },
    {
      "cell_type": "code",
      "execution_count": null,
      "metadata": {
        "id": "LwAkMdb7s-FH"
      },
      "outputs": [],
      "source": [
        "\"\"\"\n",
        "    Load the dataset.\n",
        "    For each subset, return two lists\n",
        "\"\"\"\n",
        "from sklearn.model_selection import train_test_split\n",
        "\n",
        "\n",
        "def train_val_test_split(dataset):\n",
        "\n",
        "  ##### ---------- INSERT YOUR CODE HERE ---------- #####\n",
        "\n",
        "  train_size = 1200\n",
        "  train_data = dataset[\"train\"].shuffle(seed=42) # randomize\n",
        "  train_subset = train_data.select(range(train_size)) # get the subset\n",
        "\n",
        "  # get the labels\n",
        "  X = [entry[\"text\"] for entry in train_subset]\n",
        "  y = [entry[\"label\"] for entry in train_subset]\n",
        "\n",
        "  # do train_test_split for validationa and training\n",
        "  train_x, val_x, train_y, val_y = train_test_split(X, y, train_size=800, test_size=400, random_state=42, shuffle=True\n",
        "                                                    )\n",
        "  test_size = 500\n",
        "  test_data = dataset[\"test\"].shuffle(seed=42) #randomize\n",
        "  test_subset = test_data.select(range(test_size)) #get subset for train\n",
        "  # get the labels\n",
        "  test_x = [entry[\"text\"] for entry in test_subset]\n",
        "  test_y = [entry[\"label\"] for entry in test_subset]\n",
        "\n",
        "  return train_x, train_y, val_x, val_y, test_x, test_y\n",
        "\n",
        "  ##### ---------- END CODE HERE ---------- #####\n",
        "\n",
        "\n",
        "train_x, train_y, val_x, val_y, test_x, test_y = train_val_test_split(dataset)"
      ]
    },
    {
      "cell_type": "markdown",
      "metadata": {
        "id": "gsXX6-dy_LbG"
      },
      "source": [
        "### Defining seed and DataLoader\n",
        "\n",
        "In this task, you will use a DataLoader to feed your data to the BERT model during training and evaluation. The DataLoader helps to handle large datasets efficiently by loading the data in mini-batches, shuffling it, and handling the batching process.\n",
        "\n",
        "To achieve this, we have defined a custom dataset class called AGNewsDataset. This class inherits from torch.utils.data.Dataset, which is the standard way to represent datasets in PyTorch. The AGNewsDataset class works as follows:\n",
        "\n",
        "\t•\t__init__ method: Initializes the dataset by storing the input encodings and labels.\n",
        "\t•\t__getitem__ method: Retrieves a single item (input and label) by index. It converts each feature and label into a tensor, which is the format required by PyTorch.\n",
        "\t•\t__len__ method: Returns the total number of examples in the dataset.\n",
        "\n",
        "Once the dataset is initialized, the DataLoader will use it to:\n",
        "\n",
        "\t1.\tEfficiently load the data in mini-batches.\n",
        "\t2.\tShuffle the data during training for better generalization.\n",
        "\t3.\tAutomatically create batches to send to the model for training.\n",
        "\n",
        "This setup allows BERT to process the dataset in small, manageable chunks, which is especially important when working with large models and datasets."
      ]
    },
    {
      "cell_type": "code",
      "execution_count": null,
      "metadata": {
        "id": "OutZDYL78oWI"
      },
      "outputs": [],
      "source": [
        "\"\"\"\n",
        "    Helper function for reproducible behavior to set the seed in ``random``, ``numpy``, ``torch`` and/or ``tf`` (if\n",
        "    installed).\n",
        "\n",
        "    Args:\n",
        "        seed (:obj:`int`): The seed to set.\n",
        "\"\"\"\n",
        "\n",
        "def set_seed(seed: int):\n",
        "    random.seed(seed)\n",
        "    np.random.seed(seed)\n",
        "    torch.manual_seed(seed)\n",
        "    torch.cuda.manual_seed_all(seed)"
      ]
    },
    {
      "cell_type": "code",
      "execution_count": null,
      "metadata": {
        "id": "olipOhOkwGlM"
      },
      "outputs": [],
      "source": [
        "# Disable all warnings\n",
        "warnings.filterwarnings('ignore')\n",
        "\n",
        "# Set the seed\n",
        "set_seed(1)\n",
        "\n",
        "class AGNewsDataset(torch.utils.data.Dataset):\n",
        "    def __init__(self, encodings, labels):\n",
        "        self.encodings = encodings\n",
        "        self.labels = labels\n",
        "\n",
        "    def __getitem__(self, idx):\n",
        "        item = {k: torch.tensor(v[idx]) for k, v in self.encodings.items()}\n",
        "        item[\"labels\"] = torch.tensor([self.labels[idx]])\n",
        "        return item\n",
        "\n",
        "    def __len__(self):\n",
        "        return len(self.labels)"
      ]
    },
    {
      "cell_type": "markdown",
      "metadata": {
        "id": "aj9-cx8g_iai"
      },
      "source": [
        "###Tokenizing and Preparing the Dataset for BERT\n",
        "\n",
        "Before feeding the text data into BERT, we need to tokenize it. Tokenization is the process of converting the raw text into a format that BERT can understand: a series of tokens (numerical representations of words and subwords). In this block of code, you will:\n",
        "\n",
        "- Tokenize the training, validation, and test datasets using the tokenizer function from the pre-trained BERT model. You will apply:\n",
        "- Truncation: Ensures that any text longer than the max_length is cut off to fit the required input size.\n",
        "- Padding: Adds padding to the shorter sentences so they all have the same length.\n",
        "- max_length: This limits the maximum number of tokens that BERT will process from each input.\n",
        "\n",
        "Once tokenized, we will bring the data into the format required for BERT:\n",
        "\n",
        "\t•\tWe create custom datasets using the AGNewsDataset class defined earlier. This takes the tokenized encodings and corresponding labels (train_y, dev_y, and test_y) and formats them for training and evaluation.\n",
        "\n",
        "This step prepares the data to be passed into the BERT model for text classification, ensuring that it is in the right structure and format for efficient processing."
      ]
    },
    {
      "cell_type": "code",
      "execution_count": null,
      "metadata": {
        "id": "kuF6iCRg_rpW"
      },
      "outputs": [],
      "source": [
        "# Tokenize the dataset at max_length, using truncation and padding\n",
        "train_encodings = tokenizer(train_x, truncation=True, padding=True, max_length=256)\n",
        "valid_encodings = tokenizer(val_x, truncation=True, padding=True, max_length=256)\n",
        "test_encodings = tokenizer(test_x, truncation=True, padding=True, max_length=256)\n",
        "\n",
        "# And bring it into the desired format for applying classification with BERT\n",
        "train_dataset = AGNewsDataset(train_encodings, train_y)\n",
        "validation_dataset = AGNewsDataset(valid_encodings, val_y)\n",
        "test_dataset = AGNewsDataset(test_encodings, test_y)"
      ]
    },
    {
      "cell_type": "markdown",
      "metadata": {
        "id": "_3SwNt8aAHjP"
      },
      "source": [
        "In this step, you will load a pre-trained BERT model that is specifically designed for sequence classification tasks. BERT can be fine-tuned for various tasks, and for text classification, we use the BertForSequenceClassification model, which is tailored to classify entire sequences (sentences or documents) into predefined categories."
      ]
    },
    {
      "cell_type": "code",
      "execution_count": null,
      "metadata": {
        "id": "E2I9QDat_z5t",
        "colab": {
          "base_uri": "https://localhost:8080/"
        },
        "outputId": "dcaa5254-c0c4-4a9d-ea89-134712625749"
      },
      "outputs": [
        {
          "output_type": "stream",
          "name": "stderr",
          "text": [
            "Some weights of BertForSequenceClassification were not initialized from the model checkpoint at bert-base-uncased and are newly initialized: ['classifier.bias', 'classifier.weight']\n",
            "You should probably TRAIN this model on a down-stream task to be able to use it for predictions and inference.\n"
          ]
        }
      ],
      "source": [
        "# Load a BERT model for text classification\n",
        "target_list = [\"World\", \"Sports\", \"Business\", \"Sci/Tech\"]\n",
        "\n",
        "model = BertForSequenceClassification.from_pretrained(\n",
        "    \"bert-base-uncased\",\n",
        "    num_labels=len(target_list)\n",
        ").to(\"cuda\")"
      ]
    },
    {
      "cell_type": "markdown",
      "metadata": {
        "id": "_ZuGYBQ0BueI"
      },
      "source": [
        "###Understanding BERT’s Architecture\n",
        "\n",
        "Now that we’ve loaded the BERT model, let’s briefly look at its core components:\n",
        "\n",
        "1. Embeddings Layer\n",
        "\n",
        "- word_embeddings: Maps each token in the vocabulary to a 768-dimensional vector.\n",
        "- position_embeddings: Adds positional information to tokens to understand word order.\n",
        "- token_type_embeddings: Helps distinguish between pairs of sentences in tasks like question answering.\n",
        "\n",
        "2. Encoder Layer\n",
        "\n",
        "The encoder is the heart of BERT, consisting of 12 layers of self-attention and feed-forward networks. These layers allow BERT to learn relationships between all words in a sentence, capturing both local and global context. At a high level, the encoder:\n",
        "\n",
        "- Uses self-attention to help each word attend to every other word in the sequence.\n",
        "- Applies feed-forward layers to transform and refine the learned representations.\n",
        "\n",
        "3. Pooler Layer\n",
        "\n",
        "Focuses on the special [CLS] token to summarize the sentence. This pooled output is passed to the classifier.\n",
        "\n",
        "4. Classifier\n",
        "\n",
        "The final layer maps BERT’s output to the number of target categories (4 in this case: “World,” “Sports,” “Business,” “Sci/Tech”) to make predictions.\n"
      ]
    },
    {
      "cell_type": "code",
      "execution_count": null,
      "metadata": {
        "id": "7UVZVFYKBEyR",
        "colab": {
          "base_uri": "https://localhost:8080/"
        },
        "outputId": "f772605d-c682-4802-df4f-cdd735440061"
      },
      "outputs": [
        {
          "output_type": "stream",
          "name": "stdout",
          "text": [
            "BertForSequenceClassification(\n",
            "  (bert): BertModel(\n",
            "    (embeddings): BertEmbeddings(\n",
            "      (word_embeddings): Embedding(30522, 768, padding_idx=0)\n",
            "      (position_embeddings): Embedding(512, 768)\n",
            "      (token_type_embeddings): Embedding(2, 768)\n",
            "      (LayerNorm): LayerNorm((768,), eps=1e-12, elementwise_affine=True)\n",
            "      (dropout): Dropout(p=0.1, inplace=False)\n",
            "    )\n",
            "    (encoder): BertEncoder(\n",
            "      (layer): ModuleList(\n",
            "        (0-11): 12 x BertLayer(\n",
            "          (attention): BertAttention(\n",
            "            (self): BertSdpaSelfAttention(\n",
            "              (query): Linear(in_features=768, out_features=768, bias=True)\n",
            "              (key): Linear(in_features=768, out_features=768, bias=True)\n",
            "              (value): Linear(in_features=768, out_features=768, bias=True)\n",
            "              (dropout): Dropout(p=0.1, inplace=False)\n",
            "            )\n",
            "            (output): BertSelfOutput(\n",
            "              (dense): Linear(in_features=768, out_features=768, bias=True)\n",
            "              (LayerNorm): LayerNorm((768,), eps=1e-12, elementwise_affine=True)\n",
            "              (dropout): Dropout(p=0.1, inplace=False)\n",
            "            )\n",
            "          )\n",
            "          (intermediate): BertIntermediate(\n",
            "            (dense): Linear(in_features=768, out_features=3072, bias=True)\n",
            "            (intermediate_act_fn): GELUActivation()\n",
            "          )\n",
            "          (output): BertOutput(\n",
            "            (dense): Linear(in_features=3072, out_features=768, bias=True)\n",
            "            (LayerNorm): LayerNorm((768,), eps=1e-12, elementwise_affine=True)\n",
            "            (dropout): Dropout(p=0.1, inplace=False)\n",
            "          )\n",
            "        )\n",
            "      )\n",
            "    )\n",
            "    (pooler): BertPooler(\n",
            "      (dense): Linear(in_features=768, out_features=768, bias=True)\n",
            "      (activation): Tanh()\n",
            "    )\n",
            "  )\n",
            "  (dropout): Dropout(p=0.1, inplace=False)\n",
            "  (classifier): Linear(in_features=768, out_features=4, bias=True)\n",
            ")\n"
          ]
        }
      ],
      "source": [
        "print(model)"
      ]
    },
    {
      "cell_type": "markdown",
      "metadata": {
        "id": "ukhNtaekCSVp"
      },
      "source": [
        "### Defining the Training Arguments\n",
        "\n",
        "In this block, we define the training arguments that will control how the BERT model is fine-tuned. The TrainingArguments class provides several options to customize the training process:\n",
        "\n",
        "\t•\toutput_dir: Directory to save model checkpoints and results.\n",
        "\t•\tnum_train_epochs: The number of times the model will pass over the entire training dataset (2 epochs in this case).\n",
        "\t•\tper_device_train_batch_size: The number of training examples processed at once by each device (set to 16).\n",
        "\t•\tper_device_eval_batch_size: The batch size for evaluation (set to 20).\n",
        "\t•\twarmup_steps: Number of steps to perform learning rate warm-up, which helps the model gradually adjust to the task.\n",
        "\t•\tweight_decay: Applies a regularization term to prevent overfitting (set to 0.01).\n",
        "\t•\tlogging_dir: Directory to save training logs.\n",
        "\t•\tload_best_model_at_end: Ensures that the best-performing model on the validation set is loaded at the end of training.\n",
        "\t•\tlogging_steps: Logs model training progress every 50 steps.\n",
        "\t•\tevaluation_strategy: Specifies when to evaluate the model during training (in this case, it evaluates the model after a certain number of steps).\n",
        "\n",
        "These parameters allow you to configure and fine-tune BERT effectively for the task."
      ]
    },
    {
      "cell_type": "code",
      "execution_count": null,
      "metadata": {
        "id": "M0_6XBGFCDyN"
      },
      "outputs": [],
      "source": [
        "# Training arguments specification\n",
        "\n",
        "training_args = TrainingArguments(\n",
        "    output_dir='./results',\n",
        "    num_train_epochs=5,\n",
        "    learning_rate=1e-5,\n",
        "    per_device_train_batch_size=16,\n",
        "    per_device_eval_batch_size=20,\n",
        "    warmup_steps=500,\n",
        "    weight_decay=0.01,\n",
        "    logging_dir='./logs',\n",
        "    load_best_model_at_end=True,\n",
        "    logging_steps=50,\n",
        "    evaluation_strategy=\"epoch\",\n",
        "    save_strategy=\"epoch\",\n",
        "    report_to=\"none\"\n",
        ")"
      ]
    },
    {
      "cell_type": "markdown",
      "metadata": {
        "id": "GOw-9jnuC5kQ"
      },
      "source": [
        "To train the BERT model, we will use Hugging Face’s Trainer module, which simplifies the training loop by handling many of the complexities involved. Here’s how it works:\n",
        "\n",
        "\t•\tmodel: The BERT model that we loaded and configured for sequence classification.\n",
        "\t•\targs: The training arguments you defined earlier (training_args) to control the training process.\n",
        "\t•\ttrain_dataset: The dataset used for training.\n",
        "\t•\teval_dataset: The dataset used for evaluation during training.\n",
        "\n",
        "By using the Trainer, you can efficiently train and evaluate BERT without needing to manually write the training loop, making the process more streamlined."
      ]
    },
    {
      "cell_type": "markdown",
      "metadata": {
        "id": "Nh9kBa7dGfKb"
      },
      "source": [
        "### Problem 2.2: Evaluate the model's performance. [20 points]\n",
        "\n",
        "In this task, you will implement the compute_metrics function, which is responsible for evaluating the performance of your BERT model. Specifically, you need to calculate and return the precision, recall, and F1-score for each of the four classes in the dataset.\n",
        "\n",
        "Your goal is to:\n",
        "\n",
        "- Calculate the accuracy of the model.\n",
        "- For each class, compute the precision (the ability of the model to correctly identify positive samples), recall (the ability to find all relevant instances), and the F1-score (the harmonic mean of precision and recall).\n",
        "\n",
        "You are allowed to use any of the sklearn.metrics functions imported below, as well as other libraries of your choice.\n",
        "\n",
        "This will give you a detailed view of how the model performs for each class and help you understand the model’s strengths and weaknesses across different categories. Once you’ve completed the function, it will be used by the Trainer to evaluate the model during training and validation."
      ]
    },
    {
      "cell_type": "code",
      "execution_count": null,
      "metadata": {
        "id": "WhEzsL5cGdMc"
      },
      "outputs": [],
      "source": [
        "from sklearn.metrics import accuracy_score, precision_recall_fscore_support\n",
        "\n",
        "def compute_metrics(pred):\n",
        "    \"\"\"Computes accuracy and per-class precision, recall, and F1 score.\"\"\"\n",
        "    labels = pred.label_ids\n",
        "    preds = pred.predictions.argmax(-1)\n",
        "\n",
        "    acc = accuracy_score(labels, preds)\n",
        "    precision, recall, f1, _ = precision_recall_fscore_support(labels, preds, average=None)\n",
        "\n",
        "    return {\n",
        "        'accuracy': acc,\n",
        "        'precision_class_0': precision[0],\n",
        "        'recall_class_0': recall[0],\n",
        "        'f1_class_0': f1[0],\n",
        "        'precision_class_1': precision[1],\n",
        "        'recall_class_1': recall[1],\n",
        "        'f1_class_1': f1[1],\n",
        "        'precision_class_2': precision[2],\n",
        "        'recall_class_2': recall[2],\n",
        "        'f1_class_2': f1[2],\n",
        "        'precision_class_3': precision[3],\n",
        "        'recall_class_3': recall[3],\n",
        "        'f1_class_3': f1[3],\n",
        "    }"
      ]
    },
    {
      "cell_type": "code",
      "execution_count": null,
      "metadata": {
        "id": "i6s5yHg5CqEM"
      },
      "outputs": [],
      "source": [
        "# Trainer specification\n",
        "\n",
        "trainer = Trainer(\n",
        "    model=model,\n",
        "    args=training_args,\n",
        "    train_dataset=train_dataset,\n",
        "    eval_dataset=validation_dataset,\n",
        "    compute_metrics=compute_metrics\n",
        ")"
      ]
    },
    {
      "cell_type": "code",
      "execution_count": null,
      "metadata": {
        "id": "jHO9CYcgDJrd",
        "colab": {
          "base_uri": "https://localhost:8080/",
          "height": 285
        },
        "outputId": "10c2e413-b60d-4b8c-ba9b-0411b0b45a1a"
      },
      "outputs": [
        {
          "output_type": "display_data",
          "data": {
            "text/plain": [
              "<IPython.core.display.HTML object>"
            ],
            "text/html": [
              "\n",
              "    <div>\n",
              "      \n",
              "      <progress value='250' max='250' style='width:300px; height:20px; vertical-align: middle;'></progress>\n",
              "      [250/250 03:53, Epoch 5/5]\n",
              "    </div>\n",
              "    <table border=\"1\" class=\"dataframe\">\n",
              "  <thead>\n",
              " <tr style=\"text-align: left;\">\n",
              "      <th>Epoch</th>\n",
              "      <th>Training Loss</th>\n",
              "      <th>Validation Loss</th>\n",
              "      <th>Accuracy</th>\n",
              "      <th>Precision Class 0</th>\n",
              "      <th>Recall Class 0</th>\n",
              "      <th>F1 Class 0</th>\n",
              "      <th>Precision Class 1</th>\n",
              "      <th>Recall Class 1</th>\n",
              "      <th>F1 Class 1</th>\n",
              "      <th>Precision Class 2</th>\n",
              "      <th>Recall Class 2</th>\n",
              "      <th>F1 Class 2</th>\n",
              "      <th>Precision Class 3</th>\n",
              "      <th>Recall Class 3</th>\n",
              "      <th>F1 Class 3</th>\n",
              "    </tr>\n",
              "  </thead>\n",
              "  <tbody>\n",
              "    <tr>\n",
              "      <td>1</td>\n",
              "      <td>1.371500</td>\n",
              "      <td>1.345643</td>\n",
              "      <td>0.370000</td>\n",
              "      <td>0.383648</td>\n",
              "      <td>0.628866</td>\n",
              "      <td>0.476562</td>\n",
              "      <td>0.615385</td>\n",
              "      <td>0.074074</td>\n",
              "      <td>0.132231</td>\n",
              "      <td>0.384615</td>\n",
              "      <td>0.113636</td>\n",
              "      <td>0.175439</td>\n",
              "      <td>0.341584</td>\n",
              "      <td>0.644860</td>\n",
              "      <td>0.446602</td>\n",
              "    </tr>\n",
              "    <tr>\n",
              "      <td>2</td>\n",
              "      <td>1.296100</td>\n",
              "      <td>1.263248</td>\n",
              "      <td>0.512500</td>\n",
              "      <td>0.630435</td>\n",
              "      <td>0.597938</td>\n",
              "      <td>0.613757</td>\n",
              "      <td>0.892857</td>\n",
              "      <td>0.231481</td>\n",
              "      <td>0.367647</td>\n",
              "      <td>0.433628</td>\n",
              "      <td>0.556818</td>\n",
              "      <td>0.487562</td>\n",
              "      <td>0.437126</td>\n",
              "      <td>0.682243</td>\n",
              "      <td>0.532847</td>\n",
              "    </tr>\n",
              "    <tr>\n",
              "      <td>3</td>\n",
              "      <td>1.185400</td>\n",
              "      <td>1.113454</td>\n",
              "      <td>0.710000</td>\n",
              "      <td>0.664000</td>\n",
              "      <td>0.855670</td>\n",
              "      <td>0.747748</td>\n",
              "      <td>0.957143</td>\n",
              "      <td>0.620370</td>\n",
              "      <td>0.752809</td>\n",
              "      <td>0.652174</td>\n",
              "      <td>0.681818</td>\n",
              "      <td>0.666667</td>\n",
              "      <td>0.654867</td>\n",
              "      <td>0.691589</td>\n",
              "      <td>0.672727</td>\n",
              "    </tr>\n",
              "    <tr>\n",
              "      <td>4</td>\n",
              "      <td>0.988500</td>\n",
              "      <td>0.845154</td>\n",
              "      <td>0.862500</td>\n",
              "      <td>0.800000</td>\n",
              "      <td>0.865979</td>\n",
              "      <td>0.831683</td>\n",
              "      <td>0.943396</td>\n",
              "      <td>0.925926</td>\n",
              "      <td>0.934579</td>\n",
              "      <td>0.879518</td>\n",
              "      <td>0.829545</td>\n",
              "      <td>0.853801</td>\n",
              "      <td>0.830189</td>\n",
              "      <td>0.822430</td>\n",
              "      <td>0.826291</td>\n",
              "    </tr>\n",
              "    <tr>\n",
              "      <td>5</td>\n",
              "      <td>0.722400</td>\n",
              "      <td>0.588531</td>\n",
              "      <td>0.887500</td>\n",
              "      <td>0.873684</td>\n",
              "      <td>0.855670</td>\n",
              "      <td>0.864583</td>\n",
              "      <td>0.929204</td>\n",
              "      <td>0.972222</td>\n",
              "      <td>0.950226</td>\n",
              "      <td>0.924051</td>\n",
              "      <td>0.829545</td>\n",
              "      <td>0.874251</td>\n",
              "      <td>0.831858</td>\n",
              "      <td>0.878505</td>\n",
              "      <td>0.854545</td>\n",
              "    </tr>\n",
              "  </tbody>\n",
              "</table><p>"
            ]
          },
          "metadata": {}
        },
        {
          "output_type": "execute_result",
          "data": {
            "text/plain": [
              "TrainOutput(global_step=250, training_loss=1.1127844390869142, metrics={'train_runtime': 234.5041, 'train_samples_per_second': 17.057, 'train_steps_per_second': 1.066, 'total_flos': 396729262176000.0, 'train_loss': 1.1127844390869142, 'epoch': 5.0})"
            ]
          },
          "metadata": {},
          "execution_count": 33
        }
      ],
      "source": [
        "# Train the model\n",
        "trainer.train()"
      ]
    },
    {
      "cell_type": "markdown",
      "metadata": {
        "id": "YEY-4OuoLnFT"
      },
      "source": [
        "After successfully training and evaluating your BERT model, it’s important to save the fine-tuned model and tokenizer for future use. This allows you to reuse the model for inference or further training without having to retrain it from scratch."
      ]
    },
    {
      "cell_type": "code",
      "execution_count": null,
      "metadata": {
        "id": "nMWMKHe2KPwV",
        "colab": {
          "base_uri": "https://localhost:8080/"
        },
        "outputId": "1b9d91c7-881f-4dee-ff06-c6c5b2efd7e9"
      },
      "outputs": [
        {
          "output_type": "execute_result",
          "data": {
            "text/plain": [
              "('ag_news-bert-base-uncased/tokenizer_config.json',\n",
              " 'ag_news-bert-base-uncased/special_tokens_map.json',\n",
              " 'ag_news-bert-base-uncased/vocab.txt',\n",
              " 'ag_news-bert-base-uncased/added_tokens.json')"
            ]
          },
          "metadata": {},
          "execution_count": 34
        }
      ],
      "source": [
        "# Save the fine-tuned model and the tokenizer\n",
        "model_path = \"ag_news-bert-base-uncased\"\n",
        "model.save_pretrained(model_path)\n",
        "tokenizer.save_pretrained(model_path)"
      ]
    },
    {
      "cell_type": "markdown",
      "metadata": {
        "id": "Yfvs1PJfKzCG"
      },
      "source": [
        "### Problem 2.3: Evaluating Model Performance on the Test Set and Generate Confusion Matrix [10 points]\n",
        "\n",
        "Now that your BERT model is trained, it’s time to assess its performance on the test set, which contains unseen data. In this task, we will:\n",
        "\n",
        "- Make predictions on the test set using your trained model.\n",
        "- Evaluate the test accuracy to see how well the model generalizes to new data.\n",
        "- Generate a confusion matrix to visualize the performance across different classes.\n",
        "\n",
        "The confusion matrix provides a detailed view of how the model performs for each class, showing where it makes correct predictions and where it confuses certain classes. Each row represents the true class, while each column represents the predicted class. Values along the diagonal represent correct predictions, while off-diagonal values indicate misclassifications.\n",
        "\n",
        "The code that generates the confusion matrix is given. Please observe the confusion matrix and comment on your observations in the markdown cell below:"
      ]
    },
    {
      "cell_type": "code",
      "execution_count": null,
      "metadata": {
        "id": "qovIIDyQKZlR",
        "colab": {
          "base_uri": "https://localhost:8080/",
          "height": 582
        },
        "outputId": "f20a868b-8935-4229-e40a-0f308a201ba9"
      },
      "outputs": [
        {
          "output_type": "display_data",
          "data": {
            "text/plain": [
              "<IPython.core.display.HTML object>"
            ],
            "text/html": []
          },
          "metadata": {}
        },
        {
          "output_type": "stream",
          "name": "stdout",
          "text": [
            "Test Accuracy: 83.40%\n"
          ]
        },
        {
          "output_type": "display_data",
          "data": {
            "text/plain": [
              "<Figure size 800x600 with 2 Axes>"
            ],
            "image/png": "[encoded data removed]"
          },
          "metadata": {}
        }
      ],
      "source": [
        "import matplotlib.pyplot as plt\n",
        "import seaborn as sns\n",
        "from sklearn.metrics import accuracy_score, confusion_matrix\n",
        "\n",
        "# Make predictions on the test set\n",
        "test_results = trainer.predict(test_dataset)\n",
        "\n",
        "# Get predictions and true labels\n",
        "test_preds = test_results.predictions.argmax(-1)\n",
        "test_labels = test_results.label_ids\n",
        "\n",
        "# Calculate accuracy on the test set\n",
        "test_accuracy = accuracy_score(test_labels, test_preds)\n",
        "print(f\"Test Accuracy: {test_accuracy * 100:.2f}%\")\n",
        "\n",
        "# Generate a confusion matrix\n",
        "conf_matrix = confusion_matrix(test_labels, test_preds)\n",
        "\n",
        "# Plot the confusion matrix\n",
        "plt.figure(figsize=(8, 6))\n",
        "sns.heatmap(conf_matrix, annot=True, fmt='d', cmap='Blues', xticklabels=target_list, yticklabels=target_list)\n",
        "plt.xlabel('Predicted')\n",
        "plt.ylabel('True')\n",
        "plt.title('Confusion Matrix for Test Set Predictions')\n",
        "plt.show()"
      ]
    },
    {
      "cell_type": "markdown",
      "metadata": {
        "id": "ONRCCHfdK4pq"
      },
      "source": [
        "###Comment on the confusion matrix below:\n",
        "\n",
        "##### ---------- INSERT YOUR COMMENTS BELOW ---------- #####\n",
        "\n",
        "The fine tuned model did a very great job on classification. The confusion matrix shows that the model was able to thrive in classifying Sci/Tech and Sports articles. However the model had a hard time classifying Business as it classified 37 Business articles as Sci/Tech.\n",
        "\n",
        "The class that was labeled the most by the model was Sci/Tech, 10 were classified that when it was actually world, and 37 when it was actually Business. Seems like the model liked to classify articles as Sci/Tech. Overall performance of the model is really well and able to classify majority of the articles correctly.\n",
        "\n",
        "\n",
        "\n",
        "\n",
        "##### ---------- END OF COMMENTS ---------- #####"
      ]
    },
    {
      "cell_type": "markdown",
      "metadata": {
        "id": "5AmOrCHEOF4w"
      },
      "source": [
        "### Modifying the Classification Head with an MLP [Extra 10 points]\n",
        "\n",
        "In this final task, you will modify the classification head of the BERT model by defining it as a multi-layer perceptron (MLP) using nn.Sequential. This approach allows you to create a more complex classification head with multiple layers, dropout, and activation functions, in a structured and concise way. After making these modifications, you will retrain the model using the Trainer framework, as you did earlier.\n",
        "\n",
        "Your task:\n",
        "\n",
        "- Modify the classification head to include multiple layers using [nn.Sequential](https://pytorch.org/docs/stable/generated/torch.nn.Sequential.html).\n",
        "- Re-train the model using the provided code with Hugging Face’s Trainer framework.\n",
        "- Evaluate the model and compare the performance of the modified model with the original one.\n",
        "\n",
        "By experimenting with the structure of the classification head, you can explore how these architectural changes impact the performance of the model.\n",
        "\n",
        "Feel free to also experiment with the model's hyperparameters (see TrainingArguments). The goal is to beat the previous model's performance."
      ]
    },
    {
      "cell_type": "code",
      "execution_count": null,
      "metadata": {
        "id": "ZMMiUyjhRiVh",
        "colab": {
          "base_uri": "https://localhost:8080/"
        },
        "outputId": "d97f0673-1fce-47ab-d005-a62e1a8cd2c5"
      },
      "outputs": [
        {
          "output_type": "stream",
          "name": "stderr",
          "text": [
            "Some weights of BertForSequenceClassification were not initialized from the model checkpoint at bert-base-uncased and are newly initialized: ['classifier.bias', 'classifier.weight']\n",
            "You should probably TRAIN this model on a down-stream task to be able to use it for predictions and inference.\n"
          ]
        }
      ],
      "source": [
        "import torch.nn as nn\n",
        "# Create an instance of the modified model\n",
        "modified_model = BertForSequenceClassification.from_pretrained(\n",
        "    \"bert-base-uncased\",\n",
        "    num_labels=len(target_list)\n",
        ").to(\"cuda\")\n",
        "\n",
        "modified_model.classifier = nn.Sequential(\n",
        "    ### ------ INSERT YOUR CODE HERE ------ ###\n",
        "\n",
        "    nn.Linear(768, 512),\n",
        "    nn.ReLU(),\n",
        "    nn.Dropout(0.1),\n",
        "    nn.Linear(512, 256),\n",
        "    nn.ReLU(),\n",
        "    nn.Dropout(0.1),\n",
        "    nn.Linear(256, len(target_list))\n",
        "\n",
        "\n",
        "    ### ------ END OF CODE ------ ###\n",
        ")\n",
        "\n"
      ]
    },
    {
      "cell_type": "code",
      "execution_count": null,
      "metadata": {
        "id": "dB-oHyiPOmMg",
        "colab": {
          "base_uri": "https://localhost:8080/",
          "height": 591
        },
        "outputId": "866cc7fc-2335-4aac-d2ba-660845d7b32c"
      },
      "outputs": [
        {
          "output_type": "display_data",
          "data": {
            "text/plain": [
              "<IPython.core.display.HTML object>"
            ],
            "text/html": [
              "\n",
              "    <div>\n",
              "      \n",
              "      <progress value='250' max='250' style='width:300px; height:20px; vertical-align: middle;'></progress>\n",
              "      [250/250 03:33, Epoch 5/5]\n",
              "    </div>\n",
              "    <table border=\"1\" class=\"dataframe\">\n",
              "  <thead>\n",
              " <tr style=\"text-align: left;\">\n",
              "      <th>Epoch</th>\n",
              "      <th>Training Loss</th>\n",
              "      <th>Validation Loss</th>\n",
              "      <th>Accuracy</th>\n",
              "      <th>Precision Class 0</th>\n",
              "      <th>Recall Class 0</th>\n",
              "      <th>F1 Class 0</th>\n",
              "      <th>Precision Class 1</th>\n",
              "      <th>Recall Class 1</th>\n",
              "      <th>F1 Class 1</th>\n",
              "      <th>Precision Class 2</th>\n",
              "      <th>Recall Class 2</th>\n",
              "      <th>F1 Class 2</th>\n",
              "      <th>Precision Class 3</th>\n",
              "      <th>Recall Class 3</th>\n",
              "      <th>F1 Class 3</th>\n",
              "    </tr>\n",
              "  </thead>\n",
              "  <tbody>\n",
              "    <tr>\n",
              "      <td>1</td>\n",
              "      <td>1.385500</td>\n",
              "      <td>1.378124</td>\n",
              "      <td>0.250000</td>\n",
              "      <td>0.244949</td>\n",
              "      <td>1.000000</td>\n",
              "      <td>0.393509</td>\n",
              "      <td>0.000000</td>\n",
              "      <td>0.000000</td>\n",
              "      <td>0.000000</td>\n",
              "      <td>0.750000</td>\n",
              "      <td>0.034091</td>\n",
              "      <td>0.065217</td>\n",
              "      <td>0.000000</td>\n",
              "      <td>0.000000</td>\n",
              "      <td>0.000000</td>\n",
              "    </tr>\n",
              "    <tr>\n",
              "      <td>2</td>\n",
              "      <td>1.323300</td>\n",
              "      <td>1.206112</td>\n",
              "      <td>0.650000</td>\n",
              "      <td>0.750000</td>\n",
              "      <td>0.742268</td>\n",
              "      <td>0.746114</td>\n",
              "      <td>0.850000</td>\n",
              "      <td>0.944444</td>\n",
              "      <td>0.894737</td>\n",
              "      <td>0.464481</td>\n",
              "      <td>0.965909</td>\n",
              "      <td>0.627306</td>\n",
              "      <td>1.000000</td>\n",
              "      <td>0.009346</td>\n",
              "      <td>0.018519</td>\n",
              "    </tr>\n",
              "    <tr>\n",
              "      <td>3</td>\n",
              "      <td>1.070300</td>\n",
              "      <td>0.884765</td>\n",
              "      <td>0.705000</td>\n",
              "      <td>0.927711</td>\n",
              "      <td>0.793814</td>\n",
              "      <td>0.855556</td>\n",
              "      <td>0.920354</td>\n",
              "      <td>0.962963</td>\n",
              "      <td>0.941176</td>\n",
              "      <td>0.470270</td>\n",
              "      <td>0.988636</td>\n",
              "      <td>0.637363</td>\n",
              "      <td>0.736842</td>\n",
              "      <td>0.130841</td>\n",
              "      <td>0.222222</td>\n",
              "    </tr>\n",
              "    <tr>\n",
              "      <td>4</td>\n",
              "      <td>0.716800</td>\n",
              "      <td>0.547445</td>\n",
              "      <td>0.890000</td>\n",
              "      <td>0.893617</td>\n",
              "      <td>0.865979</td>\n",
              "      <td>0.879581</td>\n",
              "      <td>0.945455</td>\n",
              "      <td>0.962963</td>\n",
              "      <td>0.954128</td>\n",
              "      <td>0.805825</td>\n",
              "      <td>0.943182</td>\n",
              "      <td>0.869110</td>\n",
              "      <td>0.913978</td>\n",
              "      <td>0.794393</td>\n",
              "      <td>0.850000</td>\n",
              "    </tr>\n",
              "    <tr>\n",
              "      <td>5</td>\n",
              "      <td>0.429900</td>\n",
              "      <td>0.423011</td>\n",
              "      <td>0.897500</td>\n",
              "      <td>0.974684</td>\n",
              "      <td>0.793814</td>\n",
              "      <td>0.875000</td>\n",
              "      <td>0.929204</td>\n",
              "      <td>0.972222</td>\n",
              "      <td>0.950226</td>\n",
              "      <td>0.800000</td>\n",
              "      <td>0.954545</td>\n",
              "      <td>0.870466</td>\n",
              "      <td>0.902913</td>\n",
              "      <td>0.869159</td>\n",
              "      <td>0.885714</td>\n",
              "    </tr>\n",
              "  </tbody>\n",
              "</table><p>"
            ]
          },
          "metadata": {}
        },
        {
          "output_type": "display_data",
          "data": {
            "text/plain": [
              "<IPython.core.display.HTML object>"
            ],
            "text/html": [
              "\n",
              "    <div>\n",
              "      \n",
              "      <progress value='20' max='20' style='width:300px; height:20px; vertical-align: middle;'></progress>\n",
              "      [20/20 00:04]\n",
              "    </div>\n",
              "    "
            ]
          },
          "metadata": {}
        },
        {
          "output_type": "execute_result",
          "data": {
            "text/plain": [
              "{'eval_loss': 0.42301109433174133,\n",
              " 'eval_accuracy': 0.8975,\n",
              " 'eval_precision_class_0': 0.9746835443037974,\n",
              " 'eval_recall_class_0': 0.7938144329896907,\n",
              " 'eval_f1_class_0': 0.875,\n",
              " 'eval_precision_class_1': 0.9292035398230089,\n",
              " 'eval_recall_class_1': 0.9722222222222222,\n",
              " 'eval_f1_class_1': 0.9502262443438914,\n",
              " 'eval_precision_class_2': 0.8,\n",
              " 'eval_recall_class_2': 0.9545454545454546,\n",
              " 'eval_f1_class_2': 0.8704663212435233,\n",
              " 'eval_precision_class_3': 0.9029126213592233,\n",
              " 'eval_recall_class_3': 0.8691588785046729,\n",
              " 'eval_f1_class_3': 0.8857142857142857,\n",
              " 'eval_runtime': 4.3513,\n",
              " 'eval_samples_per_second': 91.927,\n",
              " 'eval_steps_per_second': 4.596,\n",
              " 'epoch': 5.0}"
            ]
          },
          "metadata": {},
          "execution_count": 37
        }
      ],
      "source": [
        "# Create an instance of the modified model\n",
        "# Define the training arguments (same as before)\n",
        "training_args = TrainingArguments(\n",
        "    output_dir='./results_modified',\n",
        "    num_train_epochs=5,\n",
        "    learning_rate=5e-5,\n",
        "    per_device_train_batch_size=16,\n",
        "    per_device_eval_batch_size=20,\n",
        "    warmup_steps=500,\n",
        "    weight_decay=0.01,\n",
        "    logging_dir='./logs_modified',\n",
        "    load_best_model_at_end=True,\n",
        "    logging_steps=50,\n",
        "    evaluation_strategy=\"epoch\",\n",
        "    save_strategy=\"epoch\",\n",
        "    report_to=\"none\"\n",
        ")\n",
        "\n",
        "# Define the Trainer using the modified model\n",
        "trainer = Trainer(\n",
        "    model=modified_model,\n",
        "    args=training_args,\n",
        "    train_dataset=train_dataset,\n",
        "    eval_dataset=validation_dataset,\n",
        "    compute_metrics=compute_metrics,\n",
        ")\n",
        "\n",
        "# Train the modified model\n",
        "trainer.train()\n",
        "\n",
        "# Evaluate the modified model\n",
        "trainer.evaluate()"
      ]
    },
    {
      "cell_type": "code",
      "execution_count": null,
      "metadata": {
        "id": "_WI2xfvqO95g",
        "colab": {
          "base_uri": "https://localhost:8080/",
          "height": 582
        },
        "outputId": "d590d945-17ac-432d-9e9e-ff8533596028"
      },
      "outputs": [
        {
          "output_type": "display_data",
          "data": {
            "text/plain": [
              "<IPython.core.display.HTML object>"
            ],
            "text/html": []
          },
          "metadata": {}
        },
        {
          "output_type": "stream",
          "name": "stdout",
          "text": [
            "Test Accuracy: 87.80%\n"
          ]
        },
        {
          "output_type": "display_data",
          "data": {
            "text/plain": [
              "<Figure size 800x600 with 2 Axes>"
            ],
            "image/png": "[encoded data removed]"
          },
          "metadata": {}
        }
      ],
      "source": [
        "import matplotlib.pyplot as plt\n",
        "import seaborn as sns\n",
        "from sklearn.metrics import accuracy_score, confusion_matrix\n",
        "\n",
        "# Make predictions on the test set\n",
        "test_results_new = trainer.predict(test_dataset)\n",
        "\n",
        "# Get predictions and true labels\n",
        "test_preds_new = test_results_new.predictions.argmax(-1)\n",
        "test_labels_new = test_results_new.label_ids\n",
        "\n",
        "# Calculate accuracy on the test set\n",
        "test_accuracy_new = accuracy_score(test_labels_new, test_preds_new)\n",
        "print(f\"Test Accuracy: {test_accuracy_new * 100:.2f}%\")\n",
        "\n",
        "# Generate a confusion matrix\n",
        "conf_matrix_new = confusion_matrix(test_labels_new, test_preds_new)\n",
        "\n",
        "# Plot the confusion matrix\n",
        "plt.figure(figsize=(8, 6))\n",
        "sns.heatmap(conf_matrix_new, annot=True, fmt='d', cmap='Blues', xticklabels=target_list, yticklabels=target_list)\n",
        "plt.xlabel('Predicted')\n",
        "plt.ylabel('True')\n",
        "plt.title('Confusion Matrix for Test Set Predictions')\n",
        "plt.show()"
      ]
    },
    {
      "cell_type": "markdown",
      "metadata": {
        "id": "Fd9RTnRz1Dpt"
      },
      "source": [
        "## Submission guidelines\n",
        "---\n",
        "Download the .ipynb file to a folder of your preference. All you need to do is to fill in the blanks as indicated.\n",
        "\n",
        "When submitting your .zip file through brightspace, please\n",
        "-- name your .zip file as **Surname_Givenname_SBUID_hw2.zip**.\n",
        "\n",
        "This zip file should include:\n",
        "```\n",
        "Surname_Givenname_SBUID_hw2\n",
        "        |---Surname_Givenname_SBUID_hw2.ipynb\n",
        "        |---Surname_Givenname_SBUID_hw2.pdf\n",
        "```\n",
        "\n",
        "For instance, student Bill Gates should submit a zip file named \"Gates_Bill_111134567_hw2.zip\" for homework2 in this structure:\n",
        "```\n",
        "Gates_Bill_111134567_hw2\n",
        "        |---Gates_Bill_111134567_hw2.ipynb\n",
        "        |---Gates_Bill_111134567_hw2.pdf\n",
        "```\n",
        "\n",
        "The **Surname_Givenname_SBUID_hw*.pdf** should only include a **google shared link**. To generate the **google shared link**, first create a folder named **Surname_Givenname_SBUID_hw*** in your Google Drive with your Stony Brook account. The structure of the files in the folder should be exactly the same as the one you downloaded. If you alter the folder structures, the grading of your homework will be significantly delayed and possibly penalized.\n",
        "\n",
        "Then right click this folder, click ***Get shareable link***, in the People textfield, enter TA's emails: **pkaliosis@cs.stonybrook.edu**. Make sure that TA ***Panagiotis Kaliosis*** has the link and **can edit**, ***not just*** **view**, and also **uncheck** the **Notify people** box.\n",
        "\n",
        "Colab has a good feature of version control, you should take advantage of this to save your work properly. However, the timestamp of the submission made in blackboard is the only one that we consider for grading. To be more specific, we will only grade the version of your code right before the timestamp of the submission made in blackboard.\n",
        "\n",
        "You are encouraged to post and answer questions on Piazza. Based on the amount of email that we have received in past years, there might be delays in replying to personal emails. Please ask questions on Piazza and send emails only for personal issues. Also feel free to drop by the TAs office hours.\n",
        "\n",
        "Be aware that your code will undergo plagiarism check both vertically and horizontally. Please do your own work."
      ]
    }
  ],
  "metadata": {
    "colab": {
      "provenance": [],
      "gpuType": "T4"
    },
    "kernelspec": {
      "display_name": "Python 3",
      "name": "python3"
    },
    "language_info": {
      "name": "python"
    },
    "accelerator": "GPU",
    "widgets": {
      "application/vnd.jupyter.widget-state+json": {
        "fdc72b8cb56d4a35a9a9c775447ef4f8": {
          "model_module": "@jupyter-widgets/controls",
          "model_name": "HBoxModel",
          "model_module_version": "1.5.0",
          "state": {
            "_dom_classes": [],
            "_model_module": "@jupyter-widgets/controls",
            "_model_module_version": "1.5.0",
            "_model_name": "HBoxModel",
            "_view_count": null,
            "_view_module": "@jupyter-widgets/controls",
            "_view_module_version": "1.5.0",
            "_view_name": "HBoxView",
            "box_style": "",
            "children": [
              "IPY_MODEL_324995de26424b69bb449d78a0d734e9",
              "IPY_MODEL_73d1910ad75b470c9b261acffe8226be",
              "IPY_MODEL_f0fdb405354649d88a91ba22f2b5c2ac"
            ],
            "layout": "IPY_MODEL_c7895279694047e58164f720d4f70562"
          }
        },
        "324995de26424b69bb449d78a0d734e9": {
          "model_module": "@jupyter-widgets/controls",
          "model_name": "HTMLModel",
          "model_module_version": "1.5.0",
          "state": {
            "_dom_classes": [],
            "_model_module": "@jupyter-widgets/controls",
            "_model_module_version": "1.5.0",
            "_model_name": "HTMLModel",
            "_view_count": null,
            "_view_module": "@jupyter-widgets/controls",
            "_view_module_version": "1.5.0",
            "_view_name": "HTMLView",
            "description": "",
            "description_tooltip": null,
            "layout": "IPY_MODEL_2e71f042e01942f9998870f3b4fedd5e",
            "placeholder": "​",
            "style": "IPY_MODEL_14cb026733264f39b2b8699afdce77eb",
            "value": "README.md: 100%"
          }
        },
        "73d1910ad75b470c9b261acffe8226be": {
          "model_module": "@jupyter-widgets/controls",
          "model_name": "FloatProgressModel",
          "model_module_version": "1.5.0",
          "state": {
            "_dom_classes": [],
            "_model_module": "@jupyter-widgets/controls",
            "_model_module_version": "1.5.0",
            "_model_name": "FloatProgressModel",
            "_view_count": null,
            "_view_module": "@jupyter-widgets/controls",
            "_view_module_version": "1.5.0",
            "_view_name": "ProgressView",
            "bar_style": "success",
            "description": "",
            "description_tooltip": null,
            "layout": "IPY_MODEL_c548f84536f340d285a8b4a3c98e05d5",
            "max": 8070,
            "min": 0,
            "orientation": "horizontal",
            "style": "IPY_MODEL_e478fe44200e46d2b547580eb5c44cdd",
            "value": 8070
          }
        },
        "f0fdb405354649d88a91ba22f2b5c2ac": {
          "model_module": "@jupyter-widgets/controls",
          "model_name": "HTMLModel",
          "model_module_version": "1.5.0",
          "state": {
            "_dom_classes": [],
            "_model_module": "@jupyter-widgets/controls",
            "_model_module_version": "1.5.0",
            "_model_name": "HTMLModel",
            "_view_count": null,
            "_view_module": "@jupyter-widgets/controls",
            "_view_module_version": "1.5.0",
            "_view_name": "HTMLView",
            "description": "",
            "description_tooltip": null,
            "layout": "IPY_MODEL_22513b47843542c281371a44280c73a5",
            "placeholder": "​",
            "style": "IPY_MODEL_1d6b801b38684780a510e0e2ae637b77",
            "value": " 8.07k/8.07k [00:00&lt;00:00, 571kB/s]"
          }
        },
        "c7895279694047e58164f720d4f70562": {
          "model_module": "@jupyter-widgets/base",
          "model_name": "LayoutModel",
          "model_module_version": "1.2.0",
          "state": {
            "_model_module": "@jupyter-widgets/base",
            "_model_module_version": "1.2.0",
            "_model_name": "LayoutModel",
            "_view_count": null,
            "_view_module": "@jupyter-widgets/base",
            "_view_module_version": "1.2.0",
            "_view_name": "LayoutView",
            "align_content": null,
            "align_items": null,
            "align_self": null,
            "border": null,
            "bottom": null,
            "display": null,
            "flex": null,
            "flex_flow": null,
            "grid_area": null,
            "grid_auto_columns": null,
            "grid_auto_flow": null,
            "grid_auto_rows": null,
            "grid_column": null,
            "grid_gap": null,
            "grid_row": null,
            "grid_template_areas": null,
            "grid_template_columns": null,
            "grid_template_rows": null,
            "height": null,
            "justify_content": null,
            "justify_items": null,
            "left": null,
            "margin": null,
            "max_height": null,
            "max_width": null,
            "min_height": null,
            "min_width": null,
            "object_fit": null,
            "object_position": null,
            "order": null,
            "overflow": null,
            "overflow_x": null,
            "overflow_y": null,
            "padding": null,
            "right": null,
            "top": null,
            "visibility": null,
            "width": null
          }
        },
        "2e71f042e01942f9998870f3b4fedd5e": {
          "model_module": "@jupyter-widgets/base",
          "model_name": "LayoutModel",
          "model_module_version": "1.2.0",
          "state": {
            "_model_module": "@jupyter-widgets/base",
            "_model_module_version": "1.2.0",
            "_model_name": "LayoutModel",
            "_view_count": null,
            "_view_module": "@jupyter-widgets/base",
            "_view_module_version": "1.2.0",
            "_view_name": "LayoutView",
            "align_content": null,
            "align_items": null,
            "align_self": null,
            "border": null,
            "bottom": null,
            "display": null,
            "flex": null,
            "flex_flow": null,
            "grid_area": null,
            "grid_auto_columns": null,
            "grid_auto_flow": null,
            "grid_auto_rows": null,
            "grid_column": null,
            "grid_gap": null,
            "grid_row": null,
            "grid_template_areas": null,
            "grid_template_columns": null,
            "grid_template_rows": null,
            "height": null,
            "justify_content": null,
            "justify_items": null,
            "left": null,
            "margin": null,
            "max_height": null,
            "max_width": null,
            "min_height": null,
            "min_width": null,
            "object_fit": null,
            "object_position": null,
            "order": null,
            "overflow": null,
            "overflow_x": null,
            "overflow_y": null,
            "padding": null,
            "right": null,
            "top": null,
            "visibility": null,
            "width": null
          }
        },
        "14cb026733264f39b2b8699afdce77eb": {
          "model_module": "@jupyter-widgets/controls",
          "model_name": "DescriptionStyleModel",
          "model_module_version": "1.5.0",
          "state": {
            "_model_module": "@jupyter-widgets/controls",
            "_model_module_version": "1.5.0",
            "_model_name": "DescriptionStyleModel",
            "_view_count": null,
            "_view_module": "@jupyter-widgets/base",
            "_view_module_version": "1.2.0",
            "_view_name": "StyleView",
            "description_width": ""
          }
        },
        "c548f84536f340d285a8b4a3c98e05d5": {
          "model_module": "@jupyter-widgets/base",
          "model_name": "LayoutModel",
          "model_module_version": "1.2.0",
          "state": {
            "_model_module": "@jupyter-widgets/base",
            "_model_module_version": "1.2.0",
            "_model_name": "LayoutModel",
            "_view_count": null,
            "_view_module": "@jupyter-widgets/base",
            "_view_module_version": "1.2.0",
            "_view_name": "LayoutView",
            "align_content": null,
            "align_items": null,
            "align_self": null,
            "border": null,
            "bottom": null,
            "display": null,
            "flex": null,
            "flex_flow": null,
            "grid_area": null,
            "grid_auto_columns": null,
            "grid_auto_flow": null,
            "grid_auto_rows": null,
            "grid_column": null,
            "grid_gap": null,
            "grid_row": null,
            "grid_template_areas": null,
            "grid_template_columns": null,
            "grid_template_rows": null,
            "height": null,
            "justify_content": null,
            "justify_items": null,
            "left": null,
            "margin": null,
            "max_height": null,
            "max_width": null,
            "min_height": null,
            "min_width": null,
            "object_fit": null,
            "object_position": null,
            "order": null,
            "overflow": null,
            "overflow_x": null,
            "overflow_y": null,
            "padding": null,
            "right": null,
            "top": null,
            "visibility": null,
            "width": null
          }
        },
        "e478fe44200e46d2b547580eb5c44cdd": {
          "model_module": "@jupyter-widgets/controls",
          "model_name": "ProgressStyleModel",
          "model_module_version": "1.5.0",
          "state": {
            "_model_module": "@jupyter-widgets/controls",
            "_model_module_version": "1.5.0",
            "_model_name": "ProgressStyleModel",
            "_view_count": null,
            "_view_module": "@jupyter-widgets/base",
            "_view_module_version": "1.2.0",
            "_view_name": "StyleView",
            "bar_color": null,
            "description_width": ""
          }
        },
        "22513b47843542c281371a44280c73a5": {
          "model_module": "@jupyter-widgets/base",
          "model_name": "LayoutModel",
          "model_module_version": "1.2.0",
          "state": {
            "_model_module": "@jupyter-widgets/base",
            "_model_module_version": "1.2.0",
            "_model_name": "LayoutModel",
            "_view_count": null,
            "_view_module": "@jupyter-widgets/base",
            "_view_module_version": "1.2.0",
            "_view_name": "LayoutView",
            "align_content": null,
            "align_items": null,
            "align_self": null,
            "border": null,
            "bottom": null,
            "display": null,
            "flex": null,
            "flex_flow": null,
            "grid_area": null,
            "grid_auto_columns": null,
            "grid_auto_flow": null,
            "grid_auto_rows": null,
            "grid_column": null,
            "grid_gap": null,
            "grid_row": null,
            "grid_template_areas": null,
            "grid_template_columns": null,
            "grid_template_rows": null,
            "height": null,
            "justify_content": null,
            "justify_items": null,
            "left": null,
            "margin": null,
            "max_height": null,
            "max_width": null,
            "min_height": null,
            "min_width": null,
            "object_fit": null,
            "object_position": null,
            "order": null,
            "overflow": null,
            "overflow_x": null,
            "overflow_y": null,
            "padding": null,
            "right": null,
            "top": null,
            "visibility": null,
            "width": null
          }
        },
        "1d6b801b38684780a510e0e2ae637b77": {
          "model_module": "@jupyter-widgets/controls",
          "model_name": "DescriptionStyleModel",
          "model_module_version": "1.5.0",
          "state": {
            "_model_module": "@jupyter-widgets/controls",
            "_model_module_version": "1.5.0",
            "_model_name": "DescriptionStyleModel",
            "_view_count": null,
            "_view_module": "@jupyter-widgets/base",
            "_view_module_version": "1.2.0",
            "_view_name": "StyleView",
            "description_width": ""
          }
        },
        "8d0b389226c14542979ca0b0a7cb7110": {
          "model_module": "@jupyter-widgets/controls",
          "model_name": "HBoxModel",
          "model_module_version": "1.5.0",
          "state": {
            "_dom_classes": [],
            "_model_module": "@jupyter-widgets/controls",
            "_model_module_version": "1.5.0",
            "_model_name": "HBoxModel",
            "_view_count": null,
            "_view_module": "@jupyter-widgets/controls",
            "_view_module_version": "1.5.0",
            "_view_name": "HBoxView",
            "box_style": "",
            "children": [
              "IPY_MODEL_ab627fd58e9943a583629d5ba8486047",
              "IPY_MODEL_93b930e020db4e6d8aae32246c2e429b",
              "IPY_MODEL_2380c75eac8a4441b808043ccfafbb5c"
            ],
            "layout": "IPY_MODEL_3c11949d49be4cfc873e46b479cf34d1"
          }
        },
        "ab627fd58e9943a583629d5ba8486047": {
          "model_module": "@jupyter-widgets/controls",
          "model_name": "HTMLModel",
          "model_module_version": "1.5.0",
          "state": {
            "_dom_classes": [],
            "_model_module": "@jupyter-widgets/controls",
            "_model_module_version": "1.5.0",
            "_model_name": "HTMLModel",
            "_view_count": null,
            "_view_module": "@jupyter-widgets/controls",
            "_view_module_version": "1.5.0",
            "_view_name": "HTMLView",
            "description": "",
            "description_tooltip": null,
            "layout": "IPY_MODEL_c66deb61996a499b89fd9cd32de6c9fa",
            "placeholder": "​",
            "style": "IPY_MODEL_8207f16a340f437e9e6516b07d218d43",
            "value": "train-00000-of-00001.parquet: 100%"
          }
        },
        "93b930e020db4e6d8aae32246c2e429b": {
          "model_module": "@jupyter-widgets/controls",
          "model_name": "FloatProgressModel",
          "model_module_version": "1.5.0",
          "state": {
            "_dom_classes": [],
            "_model_module": "@jupyter-widgets/controls",
            "_model_module_version": "1.5.0",
            "_model_name": "FloatProgressModel",
            "_view_count": null,
            "_view_module": "@jupyter-widgets/controls",
            "_view_module_version": "1.5.0",
            "_view_name": "ProgressView",
            "bar_style": "success",
            "description": "",
            "description_tooltip": null,
            "layout": "IPY_MODEL_a5bbf9a8d75d4b44aaea5ef2b46d2a49",
            "max": 18585438,
            "min": 0,
            "orientation": "horizontal",
            "style": "IPY_MODEL_0b143472a5dd4ecb8194c0a63d21b763",
            "value": 18585438
          }
        },
        "2380c75eac8a4441b808043ccfafbb5c": {
          "model_module": "@jupyter-widgets/controls",
          "model_name": "HTMLModel",
          "model_module_version": "1.5.0",
          "state": {
            "_dom_classes": [],
            "_model_module": "@jupyter-widgets/controls",
            "_model_module_version": "1.5.0",
            "_model_name": "HTMLModel",
            "_view_count": null,
            "_view_module": "@jupyter-widgets/controls",
            "_view_module_version": "1.5.0",
            "_view_name": "HTMLView",
            "description": "",
            "description_tooltip": null,
            "layout": "IPY_MODEL_47eb249ff1a743dfb52933863f155555",
            "placeholder": "​",
            "style": "IPY_MODEL_65d3dd739cae4ccfba4173df8831d8a8",
            "value": " 18.6M/18.6M [00:00&lt;00:00, 41.0MB/s]"
          }
        },
        "3c11949d49be4cfc873e46b479cf34d1": {
          "model_module": "@jupyter-widgets/base",
          "model_name": "LayoutModel",
          "model_module_version": "1.2.0",
          "state": {
            "_model_module": "@jupyter-widgets/base",
            "_model_module_version": "1.2.0",
            "_model_name": "LayoutModel",
            "_view_count": null,
            "_view_module": "@jupyter-widgets/base",
            "_view_module_version": "1.2.0",
            "_view_name": "LayoutView",
            "align_content": null,
            "align_items": null,
            "align_self": null,
            "border": null,
            "bottom": null,
            "display": null,
            "flex": null,
            "flex_flow": null,
            "grid_area": null,
            "grid_auto_columns": null,
            "grid_auto_flow": null,
            "grid_auto_rows": null,
            "grid_column": null,
            "grid_gap": null,
            "grid_row": null,
            "grid_template_areas": null,
            "grid_template_columns": null,
            "grid_template_rows": null,
            "height": null,
            "justify_content": null,
            "justify_items": null,
            "left": null,
            "margin": null,
            "max_height": null,
            "max_width": null,
            "min_height": null,
            "min_width": null,
            "object_fit": null,
            "object_position": null,
            "order": null,
            "overflow": null,
            "overflow_x": null,
            "overflow_y": null,
            "padding": null,
            "right": null,
            "top": null,
            "visibility": null,
            "width": null
          }
        },
        "c66deb61996a499b89fd9cd32de6c9fa": {
          "model_module": "@jupyter-widgets/base",
          "model_name": "LayoutModel",
          "model_module_version": "1.2.0",
          "state": {
            "_model_module": "@jupyter-widgets/base",
            "_model_module_version": "1.2.0",
            "_model_name": "LayoutModel",
            "_view_count": null,
            "_view_module": "@jupyter-widgets/base",
            "_view_module_version": "1.2.0",
            "_view_name": "LayoutView",
            "align_content": null,
            "align_items": null,
            "align_self": null,
            "border": null,
            "bottom": null,
            "display": null,
            "flex": null,
            "flex_flow": null,
            "grid_area": null,
            "grid_auto_columns": null,
            "grid_auto_flow": null,
            "grid_auto_rows": null,
            "grid_column": null,
            "grid_gap": null,
            "grid_row": null,
            "grid_template_areas": null,
            "grid_template_columns": null,
            "grid_template_rows": null,
            "height": null,
            "justify_content": null,
            "justify_items": null,
            "left": null,
            "margin": null,
            "max_height": null,
            "max_width": null,
            "min_height": null,
            "min_width": null,
            "object_fit": null,
            "object_position": null,
            "order": null,
            "overflow": null,
            "overflow_x": null,
            "overflow_y": null,
            "padding": null,
            "right": null,
            "top": null,
            "visibility": null,
            "width": null
          }
        },
        "8207f16a340f437e9e6516b07d218d43": {
          "model_module": "@jupyter-widgets/controls",
          "model_name": "DescriptionStyleModel",
          "model_module_version": "1.5.0",
          "state": {
            "_model_module": "@jupyter-widgets/controls",
            "_model_module_version": "1.5.0",
            "_model_name": "DescriptionStyleModel",
            "_view_count": null,
            "_view_module": "@jupyter-widgets/base",
            "_view_module_version": "1.2.0",
            "_view_name": "StyleView",
            "description_width": ""
          }
        },
        "a5bbf9a8d75d4b44aaea5ef2b46d2a49": {
          "model_module": "@jupyter-widgets/base",
          "model_name": "LayoutModel",
          "model_module_version": "1.2.0",
          "state": {
            "_model_module": "@jupyter-widgets/base",
            "_model_module_version": "1.2.0",
            "_model_name": "LayoutModel",
            "_view_count": null,
            "_view_module": "@jupyter-widgets/base",
            "_view_module_version": "1.2.0",
            "_view_name": "LayoutView",
            "align_content": null,
            "align_items": null,
            "align_self": null,
            "border": null,
            "bottom": null,
            "display": null,
            "flex": null,
            "flex_flow": null,
            "grid_area": null,
            "grid_auto_columns": null,
            "grid_auto_flow": null,
            "grid_auto_rows": null,
            "grid_column": null,
            "grid_gap": null,
            "grid_row": null,
            "grid_template_areas": null,
            "grid_template_columns": null,
            "grid_template_rows": null,
            "height": null,
            "justify_content": null,
            "justify_items": null,
            "left": null,
            "margin": null,
            "max_height": null,
            "max_width": null,
            "min_height": null,
            "min_width": null,
            "object_fit": null,
            "object_position": null,
            "order": null,
            "overflow": null,
            "overflow_x": null,
            "overflow_y": null,
            "padding": null,
            "right": null,
            "top": null,
            "visibility": null,
            "width": null
          }
        },
        "0b143472a5dd4ecb8194c0a63d21b763": {
          "model_module": "@jupyter-widgets/controls",
          "model_name": "ProgressStyleModel",
          "model_module_version": "1.5.0",
          "state": {
            "_model_module": "@jupyter-widgets/controls",
            "_model_module_version": "1.5.0",
            "_model_name": "ProgressStyleModel",
            "_view_count": null,
            "_view_module": "@jupyter-widgets/base",
            "_view_module_version": "1.2.0",
            "_view_name": "StyleView",
            "bar_color": null,
            "description_width": ""
          }
        },
        "47eb249ff1a743dfb52933863f155555": {
          "model_module": "@jupyter-widgets/base",
          "model_name": "LayoutModel",
          "model_module_version": "1.2.0",
          "state": {
            "_model_module": "@jupyter-widgets/base",
            "_model_module_version": "1.2.0",
            "_model_name": "LayoutModel",
            "_view_count": null,
            "_view_module": "@jupyter-widgets/base",
            "_view_module_version": "1.2.0",
            "_view_name": "LayoutView",
            "align_content": null,
            "align_items": null,
            "align_self": null,
            "border": null,
            "bottom": null,
            "display": null,
            "flex": null,
            "flex_flow": null,
            "grid_area": null,
            "grid_auto_columns": null,
            "grid_auto_flow": null,
            "grid_auto_rows": null,
            "grid_column": null,
            "grid_gap": null,
            "grid_row": null,
            "grid_template_areas": null,
            "grid_template_columns": null,
            "grid_template_rows": null,
            "height": null,
            "justify_content": null,
            "justify_items": null,
            "left": null,
            "margin": null,
            "max_height": null,
            "max_width": null,
            "min_height": null,
            "min_width": null,
            "object_fit": null,
            "object_position": null,
            "order": null,
            "overflow": null,
            "overflow_x": null,
            "overflow_y": null,
            "padding": null,
            "right": null,
            "top": null,
            "visibility": null,
            "width": null
          }
        },
        "65d3dd739cae4ccfba4173df8831d8a8": {
          "model_module": "@jupyter-widgets/controls",
          "model_name": "DescriptionStyleModel",
          "model_module_version": "1.5.0",
          "state": {
            "_model_module": "@jupyter-widgets/controls",
            "_model_module_version": "1.5.0",
            "_model_name": "DescriptionStyleModel",
            "_view_count": null,
            "_view_module": "@jupyter-widgets/base",
            "_view_module_version": "1.2.0",
            "_view_name": "StyleView",
            "description_width": ""
          }
        },
        "30d88fd4e6b44bb1bf3529191c2d6429": {
          "model_module": "@jupyter-widgets/controls",
          "model_name": "HBoxModel",
          "model_module_version": "1.5.0",
          "state": {
            "_dom_classes": [],
            "_model_module": "@jupyter-widgets/controls",
            "_model_module_version": "1.5.0",
            "_model_name": "HBoxModel",
            "_view_count": null,
            "_view_module": "@jupyter-widgets/controls",
            "_view_module_version": "1.5.0",
            "_view_name": "HBoxView",
            "box_style": "",
            "children": [
              "IPY_MODEL_ce92e6ac54f74cd8b47d66dda714b772",
              "IPY_MODEL_01e19e9a4d674a1988077346bc151ff9",
              "IPY_MODEL_bbf9033e315641e594bbc5068166541d"
            ],
            "layout": "IPY_MODEL_4849b754d0f14399b8c8e1f025eddfd7"
          }
        },
        "ce92e6ac54f74cd8b47d66dda714b772": {
          "model_module": "@jupyter-widgets/controls",
          "model_name": "HTMLModel",
          "model_module_version": "1.5.0",
          "state": {
            "_dom_classes": [],
            "_model_module": "@jupyter-widgets/controls",
            "_model_module_version": "1.5.0",
            "_model_name": "HTMLModel",
            "_view_count": null,
            "_view_module": "@jupyter-widgets/controls",
            "_view_module_version": "1.5.0",
            "_view_name": "HTMLView",
            "description": "",
            "description_tooltip": null,
            "layout": "IPY_MODEL_ef8b2c44fd1845588bac65cc59551648",
            "placeholder": "​",
            "style": "IPY_MODEL_31732a2a9ee9452a86e1dc3a84bb8279",
            "value": "test-00000-of-00001.parquet: 100%"
          }
        },
        "01e19e9a4d674a1988077346bc151ff9": {
          "model_module": "@jupyter-widgets/controls",
          "model_name": "FloatProgressModel",
          "model_module_version": "1.5.0",
          "state": {
            "_dom_classes": [],
            "_model_module": "@jupyter-widgets/controls",
            "_model_module_version": "1.5.0",
            "_model_name": "FloatProgressModel",
            "_view_count": null,
            "_view_module": "@jupyter-widgets/controls",
            "_view_module_version": "1.5.0",
            "_view_name": "ProgressView",
            "bar_style": "success",
            "description": "",
            "description_tooltip": null,
            "layout": "IPY_MODEL_df0fcbf917044c2da8d698f0c6ecbb70",
            "max": 1234829,
            "min": 0,
            "orientation": "horizontal",
            "style": "IPY_MODEL_39c3ffa29c3a418da3590fdd78324046",
            "value": 1234829
          }
        },
        "bbf9033e315641e594bbc5068166541d": {
          "model_module": "@jupyter-widgets/controls",
          "model_name": "HTMLModel",
          "model_module_version": "1.5.0",
          "state": {
            "_dom_classes": [],
            "_model_module": "@jupyter-widgets/controls",
            "_model_module_version": "1.5.0",
            "_model_name": "HTMLModel",
            "_view_count": null,
            "_view_module": "@jupyter-widgets/controls",
            "_view_module_version": "1.5.0",
            "_view_name": "HTMLView",
            "description": "",
            "description_tooltip": null,
            "layout": "IPY_MODEL_4abf68987a7c46b6aa1c2d337c9d1a4c",
            "placeholder": "​",
            "style": "IPY_MODEL_f9c4b91e089347ad93b10813d1beb8b7",
            "value": " 1.23M/1.23M [00:00&lt;00:00, 63.8MB/s]"
          }
        },
        "4849b754d0f14399b8c8e1f025eddfd7": {
          "model_module": "@jupyter-widgets/base",
          "model_name": "LayoutModel",
          "model_module_version": "1.2.0",
          "state": {
            "_model_module": "@jupyter-widgets/base",
            "_model_module_version": "1.2.0",
            "_model_name": "LayoutModel",
            "_view_count": null,
            "_view_module": "@jupyter-widgets/base",
            "_view_module_version": "1.2.0",
            "_view_name": "LayoutView",
            "align_content": null,
            "align_items": null,
            "align_self": null,
            "border": null,
            "bottom": null,
            "display": null,
            "flex": null,
            "flex_flow": null,
            "grid_area": null,
            "grid_auto_columns": null,
            "grid_auto_flow": null,
            "grid_auto_rows": null,
            "grid_column": null,
            "grid_gap": null,
            "grid_row": null,
            "grid_template_areas": null,
            "grid_template_columns": null,
            "grid_template_rows": null,
            "height": null,
            "justify_content": null,
            "justify_items": null,
            "left": null,
            "margin": null,
            "max_height": null,
            "max_width": null,
            "min_height": null,
            "min_width": null,
            "object_fit": null,
            "object_position": null,
            "order": null,
            "overflow": null,
            "overflow_x": null,
            "overflow_y": null,
            "padding": null,
            "right": null,
            "top": null,
            "visibility": null,
            "width": null
          }
        },
        "ef8b2c44fd1845588bac65cc59551648": {
          "model_module": "@jupyter-widgets/base",
          "model_name": "LayoutModel",
          "model_module_version": "1.2.0",
          "state": {
            "_model_module": "@jupyter-widgets/base",
            "_model_module_version": "1.2.0",
            "_model_name": "LayoutModel",
            "_view_count": null,
            "_view_module": "@jupyter-widgets/base",
            "_view_module_version": "1.2.0",
            "_view_name": "LayoutView",
            "align_content": null,
            "align_items": null,
            "align_self": null,
            "border": null,
            "bottom": null,
            "display": null,
            "flex": null,
            "flex_flow": null,
            "grid_area": null,
            "grid_auto_columns": null,
            "grid_auto_flow": null,
            "grid_auto_rows": null,
            "grid_column": null,
            "grid_gap": null,
            "grid_row": null,
            "grid_template_areas": null,
            "grid_template_columns": null,
            "grid_template_rows": null,
            "height": null,
            "justify_content": null,
            "justify_items": null,
            "left": null,
            "margin": null,
            "max_height": null,
            "max_width": null,
            "min_height": null,
            "min_width": null,
            "object_fit": null,
            "object_position": null,
            "order": null,
            "overflow": null,
            "overflow_x": null,
            "overflow_y": null,
            "padding": null,
            "right": null,
            "top": null,
            "visibility": null,
            "width": null
          }
        },
        "31732a2a9ee9452a86e1dc3a84bb8279": {
          "model_module": "@jupyter-widgets/controls",
          "model_name": "DescriptionStyleModel",
          "model_module_version": "1.5.0",
          "state": {
            "_model_module": "@jupyter-widgets/controls",
            "_model_module_version": "1.5.0",
            "_model_name": "DescriptionStyleModel",
            "_view_count": null,
            "_view_module": "@jupyter-widgets/base",
            "_view_module_version": "1.2.0",
            "_view_name": "StyleView",
            "description_width": ""
          }
        },
        "df0fcbf917044c2da8d698f0c6ecbb70": {
          "model_module": "@jupyter-widgets/base",
          "model_name": "LayoutModel",
          "model_module_version": "1.2.0",
          "state": {
            "_model_module": "@jupyter-widgets/base",
            "_model_module_version": "1.2.0",
            "_model_name": "LayoutModel",
            "_view_count": null,
            "_view_module": "@jupyter-widgets/base",
            "_view_module_version": "1.2.0",
            "_view_name": "LayoutView",
            "align_content": null,
            "align_items": null,
            "align_self": null,
            "border": null,
            "bottom": null,
            "display": null,
            "flex": null,
            "flex_flow": null,
            "grid_area": null,
            "grid_auto_columns": null,
            "grid_auto_flow": null,
            "grid_auto_rows": null,
            "grid_column": null,
            "grid_gap": null,
            "grid_row": null,
            "grid_template_areas": null,
            "grid_template_columns": null,
            "grid_template_rows": null,
            "height": null,
            "justify_content": null,
            "justify_items": null,
            "left": null,
            "margin": null,
            "max_height": null,
            "max_width": null,
            "min_height": null,
            "min_width": null,
            "object_fit": null,
            "object_position": null,
            "order": null,
            "overflow": null,
            "overflow_x": null,
            "overflow_y": null,
            "padding": null,
            "right": null,
            "top": null,
            "visibility": null,
            "width": null
          }
        },
        "39c3ffa29c3a418da3590fdd78324046": {
          "model_module": "@jupyter-widgets/controls",
          "model_name": "ProgressStyleModel",
          "model_module_version": "1.5.0",
          "state": {
            "_model_module": "@jupyter-widgets/controls",
            "_model_module_version": "1.5.0",
            "_model_name": "ProgressStyleModel",
            "_view_count": null,
            "_view_module": "@jupyter-widgets/base",
            "_view_module_version": "1.2.0",
            "_view_name": "StyleView",
            "bar_color": null,
            "description_width": ""
          }
        },
        "4abf68987a7c46b6aa1c2d337c9d1a4c": {
          "model_module": "@jupyter-widgets/base",
          "model_name": "LayoutModel",
          "model_module_version": "1.2.0",
          "state": {
            "_model_module": "@jupyter-widgets/base",
            "_model_module_version": "1.2.0",
            "_model_name": "LayoutModel",
            "_view_count": null,
            "_view_module": "@jupyter-widgets/base",
            "_view_module_version": "1.2.0",
            "_view_name": "LayoutView",
            "align_content": null,
            "align_items": null,
            "align_self": null,
            "border": null,
            "bottom": null,
            "display": null,
            "flex": null,
            "flex_flow": null,
            "grid_area": null,
            "grid_auto_columns": null,
            "grid_auto_flow": null,
            "grid_auto_rows": null,
            "grid_column": null,
            "grid_gap": null,
            "grid_row": null,
            "grid_template_areas": null,
            "grid_template_columns": null,
            "grid_template_rows": null,
            "height": null,
            "justify_content": null,
            "justify_items": null,
            "left": null,
            "margin": null,
            "max_height": null,
            "max_width": null,
            "min_height": null,
            "min_width": null,
            "object_fit": null,
            "object_position": null,
            "order": null,
            "overflow": null,
            "overflow_x": null,
            "overflow_y": null,
            "padding": null,
            "right": null,
            "top": null,
            "visibility": null,
            "width": null
          }
        },
        "f9c4b91e089347ad93b10813d1beb8b7": {
          "model_module": "@jupyter-widgets/controls",
          "model_name": "DescriptionStyleModel",
          "model_module_version": "1.5.0",
          "state": {
            "_model_module": "@jupyter-widgets/controls",
            "_model_module_version": "1.5.0",
            "_model_name": "DescriptionStyleModel",
            "_view_count": null,
            "_view_module": "@jupyter-widgets/base",
            "_view_module_version": "1.2.0",
            "_view_name": "StyleView",
            "description_width": ""
          }
        },
        "e6f1aea1b2494c66865c759d21b07117": {
          "model_module": "@jupyter-widgets/controls",
          "model_name": "HBoxModel",
          "model_module_version": "1.5.0",
          "state": {
            "_dom_classes": [],
            "_model_module": "@jupyter-widgets/controls",
            "_model_module_version": "1.5.0",
            "_model_name": "HBoxModel",
            "_view_count": null,
            "_view_module": "@jupyter-widgets/controls",
            "_view_module_version": "1.5.0",
            "_view_name": "HBoxView",
            "box_style": "",
            "children": [
              "IPY_MODEL_b183f42a3fb64c758372471f05490ef4",
              "IPY_MODEL_152ab610583a4f42baa8be2810de574f",
              "IPY_MODEL_c44e42551ab240eab3e3ad25ec967518"
            ],
            "layout": "IPY_MODEL_b1902fc35c12453788eed316196f84a4"
          }
        },
        "b183f42a3fb64c758372471f05490ef4": {
          "model_module": "@jupyter-widgets/controls",
          "model_name": "HTMLModel",
          "model_module_version": "1.5.0",
          "state": {
            "_dom_classes": [],
            "_model_module": "@jupyter-widgets/controls",
            "_model_module_version": "1.5.0",
            "_model_name": "HTMLModel",
            "_view_count": null,
            "_view_module": "@jupyter-widgets/controls",
            "_view_module_version": "1.5.0",
            "_view_name": "HTMLView",
            "description": "",
            "description_tooltip": null,
            "layout": "IPY_MODEL_71bf1df4782a4eaba5c7c55bb8987bd0",
            "placeholder": "​",
            "style": "IPY_MODEL_5a0cb54ae85b494fb1abebd9b5c206b1",
            "value": "Generating train split: 100%"
          }
        },
        "152ab610583a4f42baa8be2810de574f": {
          "model_module": "@jupyter-widgets/controls",
          "model_name": "FloatProgressModel",
          "model_module_version": "1.5.0",
          "state": {
            "_dom_classes": [],
            "_model_module": "@jupyter-widgets/controls",
            "_model_module_version": "1.5.0",
            "_model_name": "FloatProgressModel",
            "_view_count": null,
            "_view_module": "@jupyter-widgets/controls",
            "_view_module_version": "1.5.0",
            "_view_name": "ProgressView",
            "bar_style": "success",
            "description": "",
            "description_tooltip": null,
            "layout": "IPY_MODEL_9c7b4359160e44c684c57d385cfe36ad",
            "max": 120000,
            "min": 0,
            "orientation": "horizontal",
            "style": "IPY_MODEL_579bc1eb2fbd4c6b91bdc698836ff594",
            "value": 120000
          }
        },
        "c44e42551ab240eab3e3ad25ec967518": {
          "model_module": "@jupyter-widgets/controls",
          "model_name": "HTMLModel",
          "model_module_version": "1.5.0",
          "state": {
            "_dom_classes": [],
            "_model_module": "@jupyter-widgets/controls",
            "_model_module_version": "1.5.0",
            "_model_name": "HTMLModel",
            "_view_count": null,
            "_view_module": "@jupyter-widgets/controls",
            "_view_module_version": "1.5.0",
            "_view_name": "HTMLView",
            "description": "",
            "description_tooltip": null,
            "layout": "IPY_MODEL_83ec2976911c476c98141025dacb1207",
            "placeholder": "​",
            "style": "IPY_MODEL_5c5a9ff8f76c4c4aa2451e9b7385b51f",
            "value": " 120000/120000 [00:00&lt;00:00, 381002.94 examples/s]"
          }
        },
        "b1902fc35c12453788eed316196f84a4": {
          "model_module": "@jupyter-widgets/base",
          "model_name": "LayoutModel",
          "model_module_version": "1.2.0",
          "state": {
            "_model_module": "@jupyter-widgets/base",
            "_model_module_version": "1.2.0",
            "_model_name": "LayoutModel",
            "_view_count": null,
            "_view_module": "@jupyter-widgets/base",
            "_view_module_version": "1.2.0",
            "_view_name": "LayoutView",
            "align_content": null,
            "align_items": null,
            "align_self": null,
            "border": null,
            "bottom": null,
            "display": null,
            "flex": null,
            "flex_flow": null,
            "grid_area": null,
            "grid_auto_columns": null,
            "grid_auto_flow": null,
            "grid_auto_rows": null,
            "grid_column": null,
            "grid_gap": null,
            "grid_row": null,
            "grid_template_areas": null,
            "grid_template_columns": null,
            "grid_template_rows": null,
            "height": null,
            "justify_content": null,
            "justify_items": null,
            "left": null,
            "margin": null,
            "max_height": null,
            "max_width": null,
            "min_height": null,
            "min_width": null,
            "object_fit": null,
            "object_position": null,
            "order": null,
            "overflow": null,
            "overflow_x": null,
            "overflow_y": null,
            "padding": null,
            "right": null,
            "top": null,
            "visibility": null,
            "width": null
          }
        },
        "71bf1df4782a4eaba5c7c55bb8987bd0": {
          "model_module": "@jupyter-widgets/base",
          "model_name": "LayoutModel",
          "model_module_version": "1.2.0",
          "state": {
            "_model_module": "@jupyter-widgets/base",
            "_model_module_version": "1.2.0",
            "_model_name": "LayoutModel",
            "_view_count": null,
            "_view_module": "@jupyter-widgets/base",
            "_view_module_version": "1.2.0",
            "_view_name": "LayoutView",
            "align_content": null,
            "align_items": null,
            "align_self": null,
            "border": null,
            "bottom": null,
            "display": null,
            "flex": null,
            "flex_flow": null,
            "grid_area": null,
            "grid_auto_columns": null,
            "grid_auto_flow": null,
            "grid_auto_rows": null,
            "grid_column": null,
            "grid_gap": null,
            "grid_row": null,
            "grid_template_areas": null,
            "grid_template_columns": null,
            "grid_template_rows": null,
            "height": null,
            "justify_content": null,
            "justify_items": null,
            "left": null,
            "margin": null,
            "max_height": null,
            "max_width": null,
            "min_height": null,
            "min_width": null,
            "object_fit": null,
            "object_position": null,
            "order": null,
            "overflow": null,
            "overflow_x": null,
            "overflow_y": null,
            "padding": null,
            "right": null,
            "top": null,
            "visibility": null,
            "width": null
          }
        },
        "5a0cb54ae85b494fb1abebd9b5c206b1": {
          "model_module": "@jupyter-widgets/controls",
          "model_name": "DescriptionStyleModel",
          "model_module_version": "1.5.0",
          "state": {
            "_model_module": "@jupyter-widgets/controls",
            "_model_module_version": "1.5.0",
            "_model_name": "DescriptionStyleModel",
            "_view_count": null,
            "_view_module": "@jupyter-widgets/base",
            "_view_module_version": "1.2.0",
            "_view_name": "StyleView",
            "description_width": ""
          }
        },
        "9c7b4359160e44c684c57d385cfe36ad": {
          "model_module": "@jupyter-widgets/base",
          "model_name": "LayoutModel",
          "model_module_version": "1.2.0",
          "state": {
            "_model_module": "@jupyter-widgets/base",
            "_model_module_version": "1.2.0",
            "_model_name": "LayoutModel",
            "_view_count": null,
            "_view_module": "@jupyter-widgets/base",
            "_view_module_version": "1.2.0",
            "_view_name": "LayoutView",
            "align_content": null,
            "align_items": null,
            "align_self": null,
            "border": null,
            "bottom": null,
            "display": null,
            "flex": null,
            "flex_flow": null,
            "grid_area": null,
            "grid_auto_columns": null,
            "grid_auto_flow": null,
            "grid_auto_rows": null,
            "grid_column": null,
            "grid_gap": null,
            "grid_row": null,
            "grid_template_areas": null,
            "grid_template_columns": null,
            "grid_template_rows": null,
            "height": null,
            "justify_content": null,
            "justify_items": null,
            "left": null,
            "margin": null,
            "max_height": null,
            "max_width": null,
            "min_height": null,
            "min_width": null,
            "object_fit": null,
            "object_position": null,
            "order": null,
            "overflow": null,
            "overflow_x": null,
            "overflow_y": null,
            "padding": null,
            "right": null,
            "top": null,
            "visibility": null,
            "width": null
          }
        },
        "579bc1eb2fbd4c6b91bdc698836ff594": {
          "model_module": "@jupyter-widgets/controls",
          "model_name": "ProgressStyleModel",
          "model_module_version": "1.5.0",
          "state": {
            "_model_module": "@jupyter-widgets/controls",
            "_model_module_version": "1.5.0",
            "_model_name": "ProgressStyleModel",
            "_view_count": null,
            "_view_module": "@jupyter-widgets/base",
            "_view_module_version": "1.2.0",
            "_view_name": "StyleView",
            "bar_color": null,
            "description_width": ""
          }
        },
        "83ec2976911c476c98141025dacb1207": {
          "model_module": "@jupyter-widgets/base",
          "model_name": "LayoutModel",
          "model_module_version": "1.2.0",
          "state": {
            "_model_module": "@jupyter-widgets/base",
            "_model_module_version": "1.2.0",
            "_model_name": "LayoutModel",
            "_view_count": null,
            "_view_module": "@jupyter-widgets/base",
            "_view_module_version": "1.2.0",
            "_view_name": "LayoutView",
            "align_content": null,
            "align_items": null,
            "align_self": null,
            "border": null,
            "bottom": null,
            "display": null,
            "flex": null,
            "flex_flow": null,
            "grid_area": null,
            "grid_auto_columns": null,
            "grid_auto_flow": null,
            "grid_auto_rows": null,
            "grid_column": null,
            "grid_gap": null,
            "grid_row": null,
            "grid_template_areas": null,
            "grid_template_columns": null,
            "grid_template_rows": null,
            "height": null,
            "justify_content": null,
            "justify_items": null,
            "left": null,
            "margin": null,
            "max_height": null,
            "max_width": null,
            "min_height": null,
            "min_width": null,
            "object_fit": null,
            "object_position": null,
            "order": null,
            "overflow": null,
            "overflow_x": null,
            "overflow_y": null,
            "padding": null,
            "right": null,
            "top": null,
            "visibility": null,
            "width": null
          }
        },
        "5c5a9ff8f76c4c4aa2451e9b7385b51f": {
          "model_module": "@jupyter-widgets/controls",
          "model_name": "DescriptionStyleModel",
          "model_module_version": "1.5.0",
          "state": {
            "_model_module": "@jupyter-widgets/controls",
            "_model_module_version": "1.5.0",
            "_model_name": "DescriptionStyleModel",
            "_view_count": null,
            "_view_module": "@jupyter-widgets/base",
            "_view_module_version": "1.2.0",
            "_view_name": "StyleView",
            "description_width": ""
          }
        },
        "0f4eef1b48674412ab53af007edeaff5": {
          "model_module": "@jupyter-widgets/controls",
          "model_name": "HBoxModel",
          "model_module_version": "1.5.0",
          "state": {
            "_dom_classes": [],
            "_model_module": "@jupyter-widgets/controls",
            "_model_module_version": "1.5.0",
            "_model_name": "HBoxModel",
            "_view_count": null,
            "_view_module": "@jupyter-widgets/controls",
            "_view_module_version": "1.5.0",
            "_view_name": "HBoxView",
            "box_style": "",
            "children": [
              "IPY_MODEL_d3fb21cb5e0947ae9985601faa1e4037",
              "IPY_MODEL_fb55fcf946a14d4ca0e30112c68dc4ac",
              "IPY_MODEL_bd52997e95e749eebeaa0aa2c9497d4d"
            ],
            "layout": "IPY_MODEL_b7d004c519d5435398057582ec39899f"
          }
        },
        "d3fb21cb5e0947ae9985601faa1e4037": {
          "model_module": "@jupyter-widgets/controls",
          "model_name": "HTMLModel",
          "model_module_version": "1.5.0",
          "state": {
            "_dom_classes": [],
            "_model_module": "@jupyter-widgets/controls",
            "_model_module_version": "1.5.0",
            "_model_name": "HTMLModel",
            "_view_count": null,
            "_view_module": "@jupyter-widgets/controls",
            "_view_module_version": "1.5.0",
            "_view_name": "HTMLView",
            "description": "",
            "description_tooltip": null,
            "layout": "IPY_MODEL_13be58ce713d4442a26d7779e44f636f",
            "placeholder": "​",
            "style": "IPY_MODEL_4ba9c0ab4e984fd29890c4eabc265fd2",
            "value": "Generating test split: 100%"
          }
        },
        "fb55fcf946a14d4ca0e30112c68dc4ac": {
          "model_module": "@jupyter-widgets/controls",
          "model_name": "FloatProgressModel",
          "model_module_version": "1.5.0",
          "state": {
            "_dom_classes": [],
            "_model_module": "@jupyter-widgets/controls",
            "_model_module_version": "1.5.0",
            "_model_name": "FloatProgressModel",
            "_view_count": null,
            "_view_module": "@jupyter-widgets/controls",
            "_view_module_version": "1.5.0",
            "_view_name": "ProgressView",
            "bar_style": "success",
            "description": "",
            "description_tooltip": null,
            "layout": "IPY_MODEL_1fed5df2bcb64cb798d9fff466e78d3d",
            "max": 7600,
            "min": 0,
            "orientation": "horizontal",
            "style": "IPY_MODEL_84d266591dc44dc1978f449a2b5f7c18",
            "value": 7600
          }
        },
        "bd52997e95e749eebeaa0aa2c9497d4d": {
          "model_module": "@jupyter-widgets/controls",
          "model_name": "HTMLModel",
          "model_module_version": "1.5.0",
          "state": {
            "_dom_classes": [],
            "_model_module": "@jupyter-widgets/controls",
            "_model_module_version": "1.5.0",
            "_model_name": "HTMLModel",
            "_view_count": null,
            "_view_module": "@jupyter-widgets/controls",
            "_view_module_version": "1.5.0",
            "_view_name": "HTMLView",
            "description": "",
            "description_tooltip": null,
            "layout": "IPY_MODEL_38468b75f89849508f9e874317c19231",
            "placeholder": "​",
            "style": "IPY_MODEL_6cf297d54f3146c88786c4d4a7550663",
            "value": " 7600/7600 [00:00&lt;00:00, 193521.76 examples/s]"
          }
        },
        "b7d004c519d5435398057582ec39899f": {
          "model_module": "@jupyter-widgets/base",
          "model_name": "LayoutModel",
          "model_module_version": "1.2.0",
          "state": {
            "_model_module": "@jupyter-widgets/base",
            "_model_module_version": "1.2.0",
            "_model_name": "LayoutModel",
            "_view_count": null,
            "_view_module": "@jupyter-widgets/base",
            "_view_module_version": "1.2.0",
            "_view_name": "LayoutView",
            "align_content": null,
            "align_items": null,
            "align_self": null,
            "border": null,
            "bottom": null,
            "display": null,
            "flex": null,
            "flex_flow": null,
            "grid_area": null,
            "grid_auto_columns": null,
            "grid_auto_flow": null,
            "grid_auto_rows": null,
            "grid_column": null,
            "grid_gap": null,
            "grid_row": null,
            "grid_template_areas": null,
            "grid_template_columns": null,
            "grid_template_rows": null,
            "height": null,
            "justify_content": null,
            "justify_items": null,
            "left": null,
            "margin": null,
            "max_height": null,
            "max_width": null,
            "min_height": null,
            "min_width": null,
            "object_fit": null,
            "object_position": null,
            "order": null,
            "overflow": null,
            "overflow_x": null,
            "overflow_y": null,
            "padding": null,
            "right": null,
            "top": null,
            "visibility": null,
            "width": null
          }
        },
        "13be58ce713d4442a26d7779e44f636f": {
          "model_module": "@jupyter-widgets/base",
          "model_name": "LayoutModel",
          "model_module_version": "1.2.0",
          "state": {
            "_model_module": "@jupyter-widgets/base",
            "_model_module_version": "1.2.0",
            "_model_name": "LayoutModel",
            "_view_count": null,
            "_view_module": "@jupyter-widgets/base",
            "_view_module_version": "1.2.0",
            "_view_name": "LayoutView",
            "align_content": null,
            "align_items": null,
            "align_self": null,
            "border": null,
            "bottom": null,
            "display": null,
            "flex": null,
            "flex_flow": null,
            "grid_area": null,
            "grid_auto_columns": null,
            "grid_auto_flow": null,
            "grid_auto_rows": null,
            "grid_column": null,
            "grid_gap": null,
            "grid_row": null,
            "grid_template_areas": null,
            "grid_template_columns": null,
            "grid_template_rows": null,
            "height": null,
            "justify_content": null,
            "justify_items": null,
            "left": null,
            "margin": null,
            "max_height": null,
            "max_width": null,
            "min_height": null,
            "min_width": null,
            "object_fit": null,
            "object_position": null,
            "order": null,
            "overflow": null,
            "overflow_x": null,
            "overflow_y": null,
            "padding": null,
            "right": null,
            "top": null,
            "visibility": null,
            "width": null
          }
        },
        "4ba9c0ab4e984fd29890c4eabc265fd2": {
          "model_module": "@jupyter-widgets/controls",
          "model_name": "DescriptionStyleModel",
          "model_module_version": "1.5.0",
          "state": {
            "_model_module": "@jupyter-widgets/controls",
            "_model_module_version": "1.5.0",
            "_model_name": "DescriptionStyleModel",
            "_view_count": null,
            "_view_module": "@jupyter-widgets/base",
            "_view_module_version": "1.2.0",
            "_view_name": "StyleView",
            "description_width": ""
          }
        },
        "1fed5df2bcb64cb798d9fff466e78d3d": {
          "model_module": "@jupyter-widgets/base",
          "model_name": "LayoutModel",
          "model_module_version": "1.2.0",
          "state": {
            "_model_module": "@jupyter-widgets/base",
            "_model_module_version": "1.2.0",
            "_model_name": "LayoutModel",
            "_view_count": null,
            "_view_module": "@jupyter-widgets/base",
            "_view_module_version": "1.2.0",
            "_view_name": "LayoutView",
            "align_content": null,
            "align_items": null,
            "align_self": null,
            "border": null,
            "bottom": null,
            "display": null,
            "flex": null,
            "flex_flow": null,
            "grid_area": null,
            "grid_auto_columns": null,
            "grid_auto_flow": null,
            "grid_auto_rows": null,
            "grid_column": null,
            "grid_gap": null,
            "grid_row": null,
            "grid_template_areas": null,
            "grid_template_columns": null,
            "grid_template_rows": null,
            "height": null,
            "justify_content": null,
            "justify_items": null,
            "left": null,
            "margin": null,
            "max_height": null,
            "max_width": null,
            "min_height": null,
            "min_width": null,
            "object_fit": null,
            "object_position": null,
            "order": null,
            "overflow": null,
            "overflow_x": null,
            "overflow_y": null,
            "padding": null,
            "right": null,
            "top": null,
            "visibility": null,
            "width": null
          }
        },
        "84d266591dc44dc1978f449a2b5f7c18": {
          "model_module": "@jupyter-widgets/controls",
          "model_name": "ProgressStyleModel",
          "model_module_version": "1.5.0",
          "state": {
            "_model_module": "@jupyter-widgets/controls",
            "_model_module_version": "1.5.0",
            "_model_name": "ProgressStyleModel",
            "_view_count": null,
            "_view_module": "@jupyter-widgets/base",
            "_view_module_version": "1.2.0",
            "_view_name": "StyleView",
            "bar_color": null,
            "description_width": ""
          }
        },
        "38468b75f89849508f9e874317c19231": {
          "model_module": "@jupyter-widgets/base",
          "model_name": "LayoutModel",
          "model_module_version": "1.2.0",
          "state": {
            "_model_module": "@jupyter-widgets/base",
            "_model_module_version": "1.2.0",
            "_model_name": "LayoutModel",
            "_view_count": null,
            "_view_module": "@jupyter-widgets/base",
            "_view_module_version": "1.2.0",
            "_view_name": "LayoutView",
            "align_content": null,
            "align_items": null,
            "align_self": null,
            "border": null,
            "bottom": null,
            "display": null,
            "flex": null,
            "flex_flow": null,
            "grid_area": null,
            "grid_auto_columns": null,
            "grid_auto_flow": null,
            "grid_auto_rows": null,
            "grid_column": null,
            "grid_gap": null,
            "grid_row": null,
            "grid_template_areas": null,
            "grid_template_columns": null,
            "grid_template_rows": null,
            "height": null,
            "justify_content": null,
            "justify_items": null,
            "left": null,
            "margin": null,
            "max_height": null,
            "max_width": null,
            "min_height": null,
            "min_width": null,
            "object_fit": null,
            "object_position": null,
            "order": null,
            "overflow": null,
            "overflow_x": null,
            "overflow_y": null,
            "padding": null,
            "right": null,
            "top": null,
            "visibility": null,
            "width": null
          }
        },
        "6cf297d54f3146c88786c4d4a7550663": {
          "model_module": "@jupyter-widgets/controls",
          "model_name": "DescriptionStyleModel",
          "model_module_version": "1.5.0",
          "state": {
            "_model_module": "@jupyter-widgets/controls",
            "_model_module_version": "1.5.0",
            "_model_name": "DescriptionStyleModel",
            "_view_count": null,
            "_view_module": "@jupyter-widgets/base",
            "_view_module_version": "1.2.0",
            "_view_name": "StyleView",
            "description_width": ""
          }
        }
      }
    }
  },
  "nbformat": 4,
  "nbformat_minor": 0
}